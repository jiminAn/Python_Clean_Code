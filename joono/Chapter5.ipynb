{
 "cells": [
  {
   "cell_type": "markdown",
   "metadata": {
    "collapsed": true,
    "pycharm": {
     "name": "#%% md\n"
    }
   },
   "source": [
    "- https://dojang.io/mod/page/view.php?id=2427\n",
    "- 파이썬 코딩 도장: Unit42. 데코레이터 사용하기"
   ]
  },
  {
   "cell_type": "code",
   "execution_count": 1,
   "outputs": [],
   "source": [
    "class Calc:\n",
    "    @staticmethod\n",
    "    def add(a, b):\n",
    "        print(a+b)"
   ],
   "metadata": {
    "collapsed": false,
    "pycharm": {
     "name": "#%%\n"
    }
   }
  },
  {
   "cell_type": "markdown",
   "source": [
    "- 위와 같이 많이 사용됐는데 여기서 staticmethod decorator를 사용해보자\n",
    "- Closure 를 이용하여 데코레이터 생성\n",
    "### function, method decorator"
   ],
   "metadata": {
    "collapsed": false,
    "pycharm": {
     "name": "#%% md\n"
    }
   }
  },
  {
   "cell_type": "code",
   "execution_count": 2,
   "outputs": [
    {
     "name": "stdout",
     "output_type": "stream",
     "text": [
      "hello 함수 시작\n",
      "hello\n",
      "hello 함수 끝\n",
      "world 함수 시작\n",
      "world\n",
      "world 함수 끝\n"
     ]
    }
   ],
   "source": [
    "def trace(func):\n",
    "    def wrapper():\n",
    "        print(func.__name__, '함수 시작')\n",
    "        func()\n",
    "        print(func.__name__, '함수 끝')\n",
    "\n",
    "    return wrapper\n",
    "\n",
    "def hello():\n",
    "    print('hello')\n",
    "\n",
    "def world():\n",
    "    print('world')\n",
    "\n",
    "trace_hello = trace(hello)\n",
    "trace_world = trace(world)\n",
    "trace_hello()\n",
    "trace_world()"
   ],
   "metadata": {
    "collapsed": false,
    "pycharm": {
     "name": "#%%\n"
    }
   }
  },
  {
   "cell_type": "markdown",
   "source": [
    "- @로 decorator 사용하기"
   ],
   "metadata": {
    "collapsed": false,
    "pycharm": {
     "name": "#%% md\n"
    }
   }
  },
  {
   "cell_type": "code",
   "execution_count": 4,
   "outputs": [
    {
     "name": "stdout",
     "output_type": "stream",
     "text": [
      "hello2 함수 시작\n",
      "hello\n",
      "hello2 함수 끝\n",
      "world2 함수 시작\n",
      "world\n",
      "world2 함수 끝\n"
     ]
    }
   ],
   "source": [
    "@trace\n",
    "def hello2():\n",
    "    print('hello')\n",
    "\n",
    "@trace\n",
    "def world2():\n",
    "    print('world')\n",
    "\n",
    "hello2()\n",
    "world2()"
   ],
   "metadata": {
    "collapsed": false,
    "pycharm": {
     "name": "#%%\n"
    }
   }
  },
  {
   "cell_type": "markdown",
   "source": [
    "- parameters, return 을 처리하는 decorator"
   ],
   "metadata": {
    "collapsed": false,
    "pycharm": {
     "name": "#%% md\n"
    }
   }
  },
  {
   "cell_type": "code",
   "execution_count": 8,
   "outputs": [
    {
     "name": "stdout",
     "output_type": "stream",
     "text": [
      "add(a=10, b=20) -> 30\n"
     ]
    },
    {
     "data": {
      "text/plain": "30"
     },
     "execution_count": 8,
     "metadata": {},
     "output_type": "execute_result"
    }
   ],
   "source": [
    "def trace(func):\n",
    "    def wrapper(a, b):\n",
    "        r = func(a, b)\n",
    "        print(f'{func.__name__}(a={a}, b={b}) -> {r}')\n",
    "        return r\n",
    "    return wrapper\n",
    "\n",
    "@trace\n",
    "def add(a, b):\n",
    "    return a+b\n",
    "\n",
    "add(10, 20)"
   ],
   "metadata": {
    "collapsed": false,
    "pycharm": {
     "name": "#%%\n"
    }
   }
  },
  {
   "cell_type": "markdown",
   "source": [
    "- parameters가 있는 decorator"
   ],
   "metadata": {
    "collapsed": false,
    "pycharm": {
     "name": "#%% md\n"
    }
   }
  },
  {
   "cell_type": "code",
   "execution_count": 11,
   "outputs": [
    {
     "name": "stdout",
     "output_type": "stream",
     "text": [
      "add의 return값은 7의 배수가 아닙니다.\n",
      "wrapper의 return값은 3의 배수입니다.\n",
      "30\n",
      "add의 return값은 7의 배수입니다.\n",
      "wrapper의 return값은 3의 배수가 아닙니다.\n",
      "7\n"
     ]
    }
   ],
   "source": [
    "def is_multiple(x):\n",
    "    def real_decorator(func):\n",
    "        def wrapper(a, b):\n",
    "            r = func(a, b)\n",
    "            if r % x == 0:\n",
    "                print(f'{func.__name__}의 return값은 {x}의 배수입니다.')\n",
    "            else:\n",
    "                print(f'{func.__name__}의 return값은 {x}의 배수가 아닙니다.')\n",
    "            return r\n",
    "        return wrapper\n",
    "    return real_decorator\n",
    "\n",
    "# @is_multiple(3)\n",
    "# def add(a, b):\n",
    "#     return a + b\n",
    "\n",
    "@is_multiple(3)\n",
    "@is_multiple(7)\n",
    "def add(a, b):\n",
    "    return a+b\n",
    "\n",
    "print(add(2, 5))\n",
    "print(add(10, 20))"
   ],
   "metadata": {
    "collapsed": false,
    "pycharm": {
     "name": "#%%\n"
    }
   }
  },
  {
   "cell_type": "markdown",
   "source": [
    "- 위 add(10, 20)은 아래 순서대로 호출된다.\n",
    "1. is_multiple(3)( is_multiple(7)( add(10, 20 ) )\n",
    "2. is_multiple(7)을 호출하면 real_decorator()가 return\n",
    "3. 그리고 이 real_decorator()에 add(10, 20)을 인자로 줌\n",
    "4. 따라서 is_multiple(3)( * ) 여기서 *에 들어갈 것들을 먼저 살보면 최종적으로 real_decorator(add(10, 20))이 호출된다.\n",
    "5. 여기서 wrapper(10, 20)을 실행한다.\n",
    "\n",
    "6. 그리고 is_multiple(3)( wrapper(10, 20 ) 을 실행하므로 위와 같은 방법으로<br>\n",
    "wrapper의 return값은 3의 배수입니다. 라는 출력을 한 것이다.\n",
    "\n",
    "- 따라서 이와 같은 일을 방지하려면 @functions.wraps 라는 데코레이터를 사용해야한다."
   ],
   "metadata": {
    "collapsed": false,
    "pycharm": {
     "name": "#%% md\n"
    }
   }
  },
  {
   "cell_type": "code",
   "execution_count": 12,
   "outputs": [
    {
     "name": "stdout",
     "output_type": "stream",
     "text": [
      "add의 return값은 7의 배수입니다.\n",
      "add의 return값은 3의 배수가 아닙니다.\n",
      "7\n",
      "add의 return값은 7의 배수가 아닙니다.\n",
      "add의 return값은 3의 배수입니다.\n",
      "30\n"
     ]
    }
   ],
   "source": [
    "from functools import wraps\n",
    "\n",
    "def is_multiple(x):\n",
    "    def real_decorator(func):\n",
    "        @wraps(func)\n",
    "        def wrapper(a, b):\n",
    "            r = func(a, b)\n",
    "            if r % x == 0:\n",
    "                print(f'{func.__name__}의 return값은 {x}의 배수입니다.')\n",
    "            else:\n",
    "                print(f'{func.__name__}의 return값은 {x}의 배수가 아닙니다.')\n",
    "            return r\n",
    "        return wrapper\n",
    "    return real_decorator\n",
    "\n",
    "# @is_multiple(3)\n",
    "# def add(a, b):\n",
    "#     return a + b\n",
    "\n",
    "@is_multiple(3)\n",
    "@is_multiple(7)\n",
    "def add(a, b):\n",
    "    return a+b\n",
    "\n",
    "print(add(2, 5))\n",
    "print(add(10, 20))"
   ],
   "metadata": {
    "collapsed": false,
    "pycharm": {
     "name": "#%%\n"
    }
   }
  },
  {
   "cell_type": "markdown",
   "source": [
    "## Class Decorator\n",
    "\n",
    "- class를 활용할 때는 instance를 함수처럼 call 하는 \\_\\_call__ method를 구현해야 한다."
   ],
   "metadata": {
    "collapsed": false,
    "pycharm": {
     "name": "#%% md\n"
    }
   }
  },
  {
   "cell_type": "code",
   "execution_count": 15,
   "outputs": [
    {
     "name": "stdout",
     "output_type": "stream",
     "text": [
      "hello 함수 시작\n",
      "hello\n",
      "hello 함수 끝\n"
     ]
    }
   ],
   "source": [
    "class Trace:\n",
    "    def __init__(self, func):\n",
    "        self.func = func\n",
    "\n",
    "    def __call__(self):\n",
    "        print(self.func.__name__, '함수 시작')\n",
    "        self.func()\n",
    "        print(self.func.__name__, '함수 끝')\n",
    "\n",
    "@Trace\n",
    "def hello():\n",
    "    print('hello')\n",
    "\n",
    "hello()"
   ],
   "metadata": {
    "collapsed": false,
    "pycharm": {
     "name": "#%%\n"
    }
   }
  },
  {
   "cell_type": "code",
   "execution_count": 18,
   "outputs": [
    {
     "name": "stdout",
     "output_type": "stream",
     "text": [
      "hello 함수 시작\n",
      "hello\n",
      "hello 함수 끝\n"
     ]
    }
   ],
   "source": [
    "def hello():\n",
    "    print('hello')\n",
    "\n",
    "trace_hello = Trace(hello)\n",
    "trace_hello()"
   ],
   "metadata": {
    "collapsed": false,
    "pycharm": {
     "name": "#%%\n"
    }
   }
  },
  {
   "cell_type": "markdown",
   "source": [
    "- position arguments, keyword arguments도 처리하는 Class Decorator를 만들어본다."
   ],
   "metadata": {
    "collapsed": false,
    "pycharm": {
     "name": "#%% md\n"
    }
   }
  },
  {
   "cell_type": "code",
   "execution_count": 20,
   "outputs": [
    {
     "name": "stdout",
     "output_type": "stream",
     "text": [
      "add(args=(10, 20), kwargs={}) -> 30\n",
      "30\n",
      "add(args=(), kwargs={'a': 10, 'b': 20}) -> 30\n",
      "30\n"
     ]
    }
   ],
   "source": [
    "class Trace:\n",
    "    def __init__(self, func):\n",
    "        self.func = func\n",
    "\n",
    "    def __call__(self, *args, **kwargs):\n",
    "        r = self.func(*args, **kwargs)\n",
    "        print(f'{self.func.__name__}(args={args}, kwargs={kwargs}) -> {r}')\n",
    "        return r\n",
    "\n",
    "@ Trace\n",
    "def add(a, b):\n",
    "    return a + b\n",
    "\n",
    "print(add(10, 20))\n",
    "print(add(a=10, b=20))"
   ],
   "metadata": {
    "collapsed": false,
    "pycharm": {
     "name": "#%%\n"
    }
   }
  },
  {
   "cell_type": "markdown",
   "source": [
    "- parameters가 있는 Class Decorator"
   ],
   "metadata": {
    "collapsed": false,
    "pycharm": {
     "name": "#%% md\n"
    }
   }
  },
  {
   "cell_type": "code",
   "execution_count": 22,
   "outputs": [
    {
     "name": "stdout",
     "output_type": "stream",
     "text": [
      "add의 return value는 30의 배수입니다.\n",
      "30\n",
      "add의 return value는 7의 배수가 아닙니다.\n",
      "7\n"
     ]
    }
   ],
   "source": [
    "class IsMultiple:\n",
    "    def __init__(self, x):\n",
    "        self.x = x\n",
    "\n",
    "    def __call__(self, func):\n",
    "        def wrapper(a, b):\n",
    "            r = func(a, b)\n",
    "            if r % self.x == 0:\n",
    "                print(f'{func.__name__}의 return value는 {r}의 배수입니다.')\n",
    "            else:\n",
    "                print(f'{func.__name__}의 return value는 {r}의 배수가 아닙니다.')\n",
    "            return r\n",
    "        return wrapper\n",
    "\n",
    "@IsMultiple(3)\n",
    "def add(a, b):\n",
    "    return a + b\n",
    "\n",
    "print(add(10, 20))\n",
    "print(add(2, 5))"
   ],
   "metadata": {
    "collapsed": false,
    "pycharm": {
     "name": "#%%\n"
    }
   }
  },
  {
   "cell_type": "markdown",
   "source": [
    "- Decorator 활용 우수 사례\n",
    "1. parameters 변환\n",
    "2. 코드 추적 (tracing)\n",
    "3. parameters validation\n",
    "4. retry logic 구현\n",
    "5. 반복 작업 단순화"
   ],
   "metadata": {
    "collapsed": false,
    "pycharm": {
     "name": "#%% md\n"
    }
   }
  },
  {
   "cell_type": "markdown",
   "source": [
    "### parameters 변환\n",
    "- Design by Contract 원칙에 따라\n",
    "- https://kevinx64.net/198 자세하게 설명돼있다.\n",
    "- precondition, postcondition을 강제할 수도 있다.\n",
    "- 보통 parameters를 형식에 맞게 변환할 때 많이 사용된다."
   ],
   "metadata": {
    "collapsed": false,
    "pycharm": {
     "name": "#%% md\n"
    }
   }
  },
  {
   "cell_type": "markdown",
   "source": [
    "### code tracing\n",
    "- 모니터링 하고자하는 함수의 실행과 관련한 것이다.\n",
    "1. 실제 함수의 실행 경로 추적\n",
    "2. 함수 지표 모니터링(CPU, memory usage등)\n",
    "3. 함수의 실행 시간 측정\n",
    "4. 언제 함수가 실행되고 전달된 파라미터는 무엇인지 logging"
   ],
   "metadata": {
    "collapsed": false,
    "pycharm": {
     "name": "#%% md\n"
    }
   }
  },
  {
   "cell_type": "markdown",
   "source": [
    "### Decorator의 부작용 처리\n",
    "- Decorator function이 되기 위한 하나의 조건은 가장 안쪽에 정의된 함수여야 한다는 것이다."
   ],
   "metadata": {
    "collapsed": false,
    "pycharm": {
     "name": "#%% md\n"
    }
   }
  },
  {
   "cell_type": "code",
   "execution_count": null,
   "outputs": [],
   "source": [
    "import logging\n",
    "import time\n",
    "from functools import wraps\n",
    "\n",
    "logger = logging.getLogger(__name__)\n",
    "def traced_function_wrong(function):\n",
    "    logger.info(f'{function.__name__} 함수 실행')\n",
    "    start_time = time.time()\n",
    "\n",
    "    @wraps(function)\n",
    "    def wrapped(*args, **kwargs):\n",
    "        result = function(*args, **kwargs)\n",
    "        logger.info(f'함수 {function.__name__}의 실행시간{time.time() - start_time:.2f}')\n",
    "        return result\n",
    "    return wrapped\n",
    "\n",
    "@traced_function_wrong\n",
    "def process_with_delay(callback, delay=0):\n",
    "    time.sleep((delay))\n",
    "    return callback()"
   ],
   "metadata": {
    "collapsed": false,
    "pycharm": {
     "name": "#%%\n"
    }
   }
  },
  {
   "cell_type": "markdown",
   "source": [
    "여기서 마지막\n",
    "'''python\n",
    "@traced_function_wrong\n",
    "def process_with_delay(callback, delay=0):\n",
    "    time.sleep((delay))\n",
    "    return callback()\n",
    "'''\n",
    "이 부분은 module을 import시 아래와 같이 실행된다.\n",
    "'''python\n",
    "process_with_delay = traced_function_wrong(process_with_wrong)\n",
    "'''\n",
    "따라서 start_time이 곧바로 실행되어 import 하자마자 시간이 흐르게 되는 것이다.\n",
    "\n",
    "해결 방법은 간단하다.\n",
    "start_time을 wrapping 함수 안에다 넣으면 된다.\n",
    "\n",
    "\n",
    "\n",
    "\n",
    "\n",
    "\n",
    "\n",
    "\n",
    "\n",
    "\n",
    "\n",
    "\n",
    "\n",
    "\n",
    "\n",
    "\n",
    "\n",
    "\n",
    "\n",
    "\n",
    "\n",
    "\n",
    "\n",
    "\n",
    "\n",
    "\n",
    "\n",
    "\n"
   ],
   "metadata": {
    "collapsed": false,
    "pycharm": {
     "name": "#%% md\n"
    }
   }
  }
 ],
 "metadata": {
  "kernelspec": {
   "display_name": "Python 3",
   "language": "python",
   "name": "python3"
  },
  "language_info": {
   "codemirror_mode": {
    "name": "ipython",
    "version": 2
   },
   "file_extension": ".py",
   "mimetype": "text/x-python",
   "name": "python",
   "nbconvert_exporter": "python",
   "pygments_lexer": "ipython2",
   "version": "2.7.6"
  }
 },
 "nbformat": 4,
 "nbformat_minor": 0
}