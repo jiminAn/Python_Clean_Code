{
 "cells": [
  {
   "cell_type": "markdown",
   "metadata": {
    "collapsed": true,
    "pycharm": {
     "name": "#%% md\n"
    }
   },
   "source": [
    "# Chapter 4\n",
    "## SOLID 원칙\n",
    "- S : 단일 책임 원칙\n",
    "- O : 개방 / 폐쇄의 원칙\n",
    "- L : 리스코프(Liskov)치환 원칙\n",
    "- I : 인터페이스 분리 원칙\n",
    "- D : 의존성 역전 원칙\n",
    "\n",
    "## 목표\n",
    "- 소프트웨어 디자인에서의 SOLID원칙을 익힌다.\n",
    "- 단일 책임 원칙을 따르는 컴포넌트를 디자인한다.\n",
    "- 개방 / 폐쇄의 원칙을 통해 보다 나은 유지보수성을 얻는다.\n",
    "- 리스코프 치환 원칙을 준수하여 객체지향 디자인에서 적절한 클래스 계층을 설계한다.\n",
    "- 인터페이스 분리와 의존성 역전을 활용해 설계하기"
   ]
  },
  {
   "cell_type": "markdown",
   "source": [
    "## Single Responsibility Principle - SRP (단일 책임 원칙)\n",
    "- 소프트웨어 component (일반적으로 class)는 단 하나의 책임을 져야한다는 원칙이다.\n",
    "- 만약 class를 수정해야한다면 단 하나의 이유만이 존재해야한다.\n",
    "- 다른 이유가 존재한다면 class가 너무 많은 책임을 지고 있다는 것이다.\n",
    "\n",
    "- 너무 많은 책임을 가진 객체를 GOD 객체라고 한다.\n",
    "- class는 작을 수록 좋다.\n",
    "- class와 method는 상호 배타적이여야 하며 서로 관련이 없어야한다.\n",
    "\n",
    "### 너무 많은 책임을 가진 클래스"
   ],
   "metadata": {
    "collapsed": false,
    "pycharm": {
     "name": "#%% md\n"
    }
   }
  },
  {
   "cell_type": "code",
   "execution_count": 1,
   "outputs": [],
   "source": [
    "class SystemMonitor:\n",
    "    def load_activity(self):\n",
    "        '''소스에서 처리할 이벤트를 가져오기'''\n",
    "\n",
    "    def identify_events(self):\n",
    "        '''가져온 데이터를 파싱하여 도메인 객체 이벤트로 변환'''\n",
    "\n",
    "    def stream_events(self):\n",
    "        '''파싱한 이벤트를 외부 에이전트로 전송'''"
   ],
   "metadata": {
    "collapsed": false,
    "pycharm": {
     "name": "#%%\n"
    }
   }
  },
  {
   "cell_type": "markdown",
   "source": [
    "- 위 클래스의 문제점은 독립적인 동작을 하는 메서드를 하나의 인터페이스에 정의했다는 것이다.\n",
    "- 예를 들어 loader를 생각해보자 data의 형식이 바뀌어 loader class를 바꿔야하는데<br>\n",
    "loader함수가 SystemMonitor class에 정의 돼있으므로 data 형식의 변환이 SystemMonitor<br>\n",
    "전체를 수정하게 한다. 이는 좋지않다.\n",
    "- 아래 2개의 경우에도 마찬가지이며, 해결책은 보다 작고 응집력이 강한 객체로 추상화하는 것이다."
   ],
   "metadata": {
    "collapsed": false,
    "pycharm": {
     "name": "#%% md\n"
    }
   }
  },
  {
   "cell_type": "markdown",
   "source": [
    "## 책임 분산\n",
    "- 솔루션을 보다 관리하기 쉽게 하기 위해 모든 메서드를 다른 클래스로 분리하여 각 클래스마다<br>\n",
    "단일 책임을 갖게 하자!\n",
    "\n",
    "- 각자의 책임을 가진 여러 객체들을 만들고 이 객체들이 협력하여 동일한 기능을 수행하는 객체를 만들 수 있다.\n",
    "- app의 다른 부분에서 로그를 다른 용도로 읽어야 한다고 생각해보자. 이때 책의 115.p 를 보면<br>\n",
    "ActivityReader 타입의 객체를 사용하면 된다."
   ],
   "metadata": {
    "collapsed": false,
    "pycharm": {
     "name": "#%% md\n"
    }
   }
  },
  {
   "cell_type": "markdown",
   "source": [
    "## Open / Close Principle (개방 / 폐쇄 원칙)\n",
    "- 위 원칙은 모듈이 개방되어 있으면서도 폐쇄되어야 한다는 원칙이다.\n",
    "- 클래스를 디자인할 때는 유지보수가 쉽도록 로직을 캡슐화하여 확장에는 개방되고 수정에는 폐쇄되도록 해야한다.\n",
    "\n",
    "- 새로운 요구사항이나 도메인 변화에 잘 적응하는 코드를 작성해야 한다는 뜻이다.\n",
    "- 즉, 새로운 문제가 발생할 경우 새로운 것을 추가만 할 뿐 기존 코드는 그대로 유지되어야 한다.\n",
    "\n",
    "### Open / Close Principle 을 따르지 않을 경우 유지보수의 어려움\n",
    "\n",
    "\n",
    "\n",
    "\n",
    "\n",
    "\n",
    "\n",
    "\n",
    "\n",
    "\n",
    "\n",
    "\n",
    "\n",
    "\n",
    "\n",
    "\n",
    "\n",
    "\n",
    "\n",
    "\n"
   ],
   "metadata": {
    "collapsed": false,
    "pycharm": {
     "name": "#%% md\n"
    }
   }
  }
 ],
 "metadata": {
  "kernelspec": {
   "display_name": "Python 3",
   "language": "python",
   "name": "python3"
  },
  "language_info": {
   "codemirror_mode": {
    "name": "ipython",
    "version": 2
   },
   "file_extension": ".py",
   "mimetype": "text/x-python",
   "name": "python",
   "nbconvert_exporter": "python",
   "pygments_lexer": "ipython2",
   "version": "2.7.6"
  }
 },
 "nbformat": 4,
 "nbformat_minor": 0
}