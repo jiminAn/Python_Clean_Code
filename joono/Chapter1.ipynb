{
 "cells": [
  {
   "cell_type": "markdown",
   "metadata": {},
   "source": [
    "파이썬 클린코드 마리아노 아나야 지음, 김창수 옮김\n",
    "-----------------------------------------------------------------------\n",
    "\n",
    "\n",
    "# Chapter 1\n",
    "\n",
    "-----------------------------------------------------------------------------------------\n",
    "\n",
    "## clean code의 의미\n",
    "\n",
    "\n",
    "code는 사람이 컴퓨터에게 전달하는 언어이기도 하지만 이는 반만 맞는 말이다.\n",
    "사람을 위한 것이기도 하며, 책에서는 이것을 더 중요하다고 여긴다.\n",
    "\n",
    "따라서 code는 다른 사람이 쉽게, 명확하게 이해할 수 있게 작성되어야한다.\\\n",
    "\n",
    "\n",
    "## clean code의 중요성\n",
    "\n",
    "1. 유지보수성 향상\n",
    "2. 기술 부채의 감소\n",
    "3. 애자일 개발을 통한 효과적인 작업 진행\n",
    "\n",
    "- 읽기 쉬운 코드\n",
    "\n",
    "\n",
    "### clean code에서 code formatting의 역할\n",
    "\n",
    "clean code == good formatting? 답은 No 이다.\n",
    "clean code란 보수가 쉽고, technical debt를 피하는 것을 말한다.\n",
    "\n",
    "- 자동으로 검증 및 수정할 수 있도록 프로젝트를 진행해야한다.\n",
    "\n",
    "\n",
    "### 프로젝트 코딩 스타일 가이드 준수\n",
    "\n",
    "**coding guide line : 품질 표준을 지키기 위해 따라야하는 최소한의 요구사항**\n",
    "\n",
    "- 일관성: (표준화된 구조) PEP-8 기준을 따르는게 좋다.\n",
    "- 코드 품질 : 코드를 구조화하여야 한다.\n",
    "\n",
    "\n",
    "## Docstring과 annotation\n",
    "### documentation\n",
    "\n",
    "- 훌륭한 코드는 줄줄이 달린 주석이 아니다. 코드 그 자체로 이해가 쉬운 코드이다.\n",
    "- comment는 피해야한다.\n",
    "- python은 동적 타입이기 때문에 parameter들을 잘 명시해준다면 더 읽기 쉬운 코드가 된다.\n",
    "- annotation을 사용했다면 mypy같은 type hint등의 자동화된 검증을 할 수 있다."
   ]
  },
  {
   "cell_type": "code",
   "execution_count": 2,
   "metadata": {},
   "outputs": [
    {
     "name": "stdout",
     "output_type": "stream",
     "text": [
      "Help on method_descriptor:\n",
      "\n",
      "update(...)\n",
      "    D.update([E, ]**F) -> None.  Update D from dict/iterable E and F.\n",
      "    If E is present and has a .keys() method, then does:  for k in E: D[k] = E[k]\n",
      "    If E is present and lacks a .keys() method, then does:  for k, v in E: D[k] = v\n",
      "    In either case, this is followed by: for k in F:  D[k] = F[k]\n",
      "\n"
     ]
    }
   ],
   "source": [
    "help(dict.update)"
   ]
  },
  {
   "cell_type": "markdown",
   "metadata": {},
   "source": [
    "위와 같이 해당 method안에 적혀있는 docstring을 출력해준다.\n",
    "\n",
    "**docstring 은 code의 일부여야 접근할 수 있다.**\n",
    "Sphinx.ext.autodoc을 실행하면 코드에서 docstring을 가져와 문서화된 페이지를 만들어준다.\n",
    "\n",
    "- 문서화를 위한 꼼꼼한 정성을 모든 팀원이 부어야한다. \n",
    "\n",
    "### annotation\n",
    "\n",
    "annotation은 정말 **hint**를 주는 것이다.\n",
    "\n",
    "example)"
   ]
  },
  {
   "cell_type": "code",
   "execution_count": 17,
   "metadata": {},
   "outputs": [
    {
     "name": "stdout",
     "output_type": "stream",
     "text": [
      "Help on function locate in module __main__:\n",
      "\n",
      "locate(latitude:float, longitude:float) -> __main__.Point\n",
      "    Point.locate docstring\n",
      "\n"
     ]
    }
   ],
   "source": [
    "class Point:\n",
    "    lat: float\n",
    "    long: float\n",
    "        \n",
    "    def __init__(self, lat, long):\n",
    "        \"\"\" python3.6 부터 각 변수에 annotation을 달 수 있게 되었다. \"\"\"\n",
    "        self.lat = lat\n",
    "        self.long = long\n",
    "        \n",
    "def locate(latitude: float, longitude: float) -> Point:\n",
    "    \"\"\"Point.locate docstring\"\"\"\n",
    "    pass        \n",
    "\n",
    "help(locate)"
   ]
  },
  {
   "cell_type": "code",
   "execution_count": 13,
   "metadata": {},
   "outputs": [
    {
     "data": {
      "text/plain": [
       "{'latitude': float, 'longitude': float, 'return': __main__.Point}"
      ]
     },
     "execution_count": 13,
     "metadata": {},
     "output_type": "execute_result"
    }
   ],
   "source": [
    "locate.__annotations__    "
   ]
  },
  {
   "cell_type": "code",
   "execution_count": 19,
   "metadata": {},
   "outputs": [
    {
     "data": {
      "text/plain": [
       "{'lat': float, 'long': float}"
      ]
     },
     "execution_count": 19,
     "metadata": {},
     "output_type": "execute_result"
    }
   ],
   "source": [
    "Point.__annotations__"
   ]
  },
  {
   "cell_type": "markdown",
   "metadata": {},
   "source": [
    "\n",
    "# Summary\n",
    "\n",
    "다른 사람들과 함께 일을 하기 때문에 코드는 아래와 같은 특성을 가져야한다.\n",
    "그리고 이를 클린 코드라 한다.\n",
    "\n",
    "- 읽기 쉬워야한다.\n",
    "- 서로 약속되어 일관되게 코드를 작성행한다.\n",
    "- 이를 위해 tool들을 사용할 수 있다.\n"
   ]
  }
 ],
 "metadata": {
  "kernelspec": {
   "display_name": "Python 3",
   "language": "python",
   "name": "python3"
  },
  "language_info": {
   "codemirror_mode": {
    "name": "ipython",
    "version": 3
   },
   "file_extension": ".py",
   "mimetype": "text/x-python",
   "name": "python",
   "nbconvert_exporter": "python",
   "pygments_lexer": "ipython3",
   "version": "3.6.11"
  }
 },
 "nbformat": 4,
 "nbformat_minor": 4
}
