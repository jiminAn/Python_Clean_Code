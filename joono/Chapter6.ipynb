{
 "cells": [
  {
   "cell_type": "markdown",
   "metadata": {
    "collapsed": true,
    "pycharm": {
     "name": "#%% md\n"
    }
   },
   "source": [
    "# Descriptor\n",
    "\n",
    "### 학습 내용\n",
    "- descriptor가 무엇인지 이해하고 어떻게 효율적으로 동작하는지 이해한다.\n",
    "- data descriptor vs non-data descriptor 의 개념적 차이와 세부구현의 차이를 분석\n",
    "- descriptor를 활용한 코드 재사용 방법\n",
    "- 좋은 활용 예\n",
    "\n",
    "학습에 앞서 먼저 descriptor의 syntax를 알아보고자 한다.\n",
    "https://docs.python.org/3/howto/descriptor.html<br>\n",
    "위 사이트에서 공부하였음\n",
    "\n",
    "가장 쉬운 예제는 아래와 같다<br>\n",
    "A descripotr that returns a constant"
   ]
  },
  {
   "cell_type": "code",
   "execution_count": 36,
   "outputs": [],
   "source": [
    "class Ten:\n",
    "    def __get__(self, obj, objtype=None):\n",
    "        return 10"
   ],
   "metadata": {
    "collapsed": false,
    "pycharm": {
     "name": "#%%\n"
    }
   }
  },
  {
   "cell_type": "markdown",
   "source": [
    "To use the desciptor, it must be stored as a class Variable in another class<br>"
   ],
   "metadata": {
    "collapsed": false,
    "pycharm": {
     "name": "#%% md\n"
    }
   }
  },
  {
   "cell_type": "code",
   "execution_count": 37,
   "outputs": [],
   "source": [
    "class A:\n",
    "    x = 5\n",
    "    y = Ten()"
   ],
   "metadata": {
    "collapsed": false,
    "pycharm": {
     "name": "#%%\n"
    }
   }
  },
  {
   "cell_type": "code",
   "source": [
    "a = A()\n",
    "print(a.x)\n",
    "print(a.y)"
   ],
   "metadata": {
    "collapsed": false,
    "pycharm": {
     "name": "#%%\n"
    }
   },
   "execution_count": 38,
   "outputs": [
    {
     "name": "stdout",
     "output_type": "stream",
     "text": [
      "5\n",
      "10\n"
     ]
    }
   ]
  },
  {
   "cell_type": "markdown",
   "source": [
    "In the a.x attribute lookup, the dot operator finds the key x<br>\n",
    "and the value 5 in the class dictionary.<br>\n",
    "\n",
    "In the a.y lookup, the dot operator finds a descripotr instance, <br>\n",
    "recognized by its \\_\\_get__ method, and calls that method which returns 10<br>\n",
    "\n",
    "Note that the value 10 is not stored in either the class or the instance dic<br>\n",
    "Instead, the value 10 in computed on demand\n",
    "\n",
    "and we're gonna see dynamic lookup"
   ],
   "metadata": {
    "collapsed": false,
    "pycharm": {
     "name": "#%% md\n"
    }
   }
  },
  {
   "cell_type": "markdown",
   "source": [
    "Interesting descriptor typically run computation instead of returning constant<br>"
   ],
   "metadata": {
    "collapsed": false,
    "pycharm": {
     "name": "#%% md\n"
    }
   }
  },
  {
   "cell_type": "code",
   "execution_count": 39,
   "outputs": [],
   "source": [
    "import os\n",
    "\n",
    "class DirectorySize:\n",
    "    def __get__(self, obj, objtype=None):\n",
    "        return len(os.listdir(obj.dirname))\n",
    "\n",
    "class Directory:\n",
    "    size = DirectorySize()\n",
    "\n",
    "    def __init__(self, dirname):\n",
    "        self.dirname = dirname"
   ],
   "metadata": {
    "collapsed": false,
    "pycharm": {
     "name": "#%%\n"
    }
   }
  },
  {
   "cell_type": "code",
   "execution_count": 40,
   "outputs": [
    {
     "name": "stdout",
     "output_type": "stream",
     "text": [
      "9\n",
      "8\n"
     ]
    }
   ],
   "source": [
    "s = Directory('../')\n",
    "j = Directory('../joono')\n",
    "\n",
    "print(s.size)\n",
    "print(j.size)"
   ],
   "metadata": {
    "collapsed": false,
    "pycharm": {
     "name": "#%%\n"
    }
   }
  },
  {
   "cell_type": "markdown",
   "source": [
    "위와 같은 예제를 살펴보면 \\_\\_get__ method가 어떻게 동작하는지, 그 목적이 무엇인지 알 수 있다.<br>\n",
    "\n",
    "descriptor가 가장 자주 사용되는 부분은 instance의 data에 접근을 제어하는 일이다.<br>\n",
    "Descriptor는 public attribute에 저장되고 실제 data는 다른 instance dict에 저장된다.<br>\n",
    "그리고 descriptor의 \\_\\_get__, \\_\\_set__ methods는 public attribute에 접근할 때 호출된다.<br>\n",
    "\n",
    "아래의 예제에서 _age_는 public attribute,<br>\n",
    "_\\_age_는 private attribute이다.<br>\n",
    "그리고 age에 access할 때 마다 descriptor가 lookup, update를 log한다."
   ],
   "metadata": {
    "collapsed": false,
    "pycharm": {
     "name": "#%% md\n"
    }
   }
  },
  {
   "cell_type": "code",
   "execution_count": 41,
   "outputs": [],
   "source": [
    "import logging\n",
    "\n",
    "logging.basicConfig(level=logging.INFO)\n",
    "\n",
    "class LoggedAgeAccess:\n",
    "\n",
    "    def __get__(self, obj, objtype=None):\n",
    "        value = obj._age\n",
    "        logging.info('Accessing %r giving %r', 'age', value)\n",
    "        return value\n",
    "\n",
    "    def __set__(self, obj, value):\n",
    "        logging.info('Updating %r to %r', 'age', value)\n",
    "        obj._age = value\n",
    "\n",
    "class Person:\n",
    "\n",
    "    age = LoggedAgeAccess()             # Descriptor instance\n",
    "\n",
    "    def __init__(self, name, age):\n",
    "        self.name = name                # Regular instance attribute\n",
    "        self.age = age                  # Calls __set__()\n",
    "\n",
    "    def birthday(self):\n",
    "        self.age += 1"
   ],
   "metadata": {
    "collapsed": false,
    "pycharm": {
     "name": "#%%\n"
    }
   }
  },
  {
   "cell_type": "markdown",
   "source": [
    "아래 결과를 보면 regular attribute인 name에 access할 때는 아무런 log도 남지 않지만<br>\n",
    "Descriptor로 정의된 age에 접근할 때면 desciptor가 log를 남긴다.\n",
    "\n",
    "_obj_ parameter는 g나 s같은 instance of Dictionary이고 이는 target directory가 무엇인지<br>\n",
    "\\_\\_get__ method 에게 알려주는 역할을 한다.<br>\n",
    "_objtype_ parameter는 class Dictionary이다.<br>"
   ],
   "metadata": {
    "collapsed": false,
    "pycharm": {
     "name": "#%% md\n"
    }
   }
  },
  {
   "cell_type": "code",
   "execution_count": 42,
   "outputs": [
    {
     "name": "stderr",
     "output_type": "stream",
     "text": [
      "INFO:root:Updating 'age' to 30\n",
      "INFO:root:Updating 'age' to 40\n"
     ]
    }
   ],
   "source": [
    "mary = Person('Mary M', 30)\n",
    "david = Person('David D', 40)"
   ],
   "metadata": {
    "collapsed": false,
    "pycharm": {
     "name": "#%%\n"
    }
   }
  },
  {
   "cell_type": "code",
   "execution_count": 43,
   "outputs": [
    {
     "name": "stdout",
     "output_type": "stream",
     "text": [
      "{'name': 'Mary M', '_age': 30}\n",
      "{'name': 'David D', '_age': 40}\n"
     ]
    }
   ],
   "source": [
    "print(vars(mary))\n",
    "print(vars(david))"
   ],
   "metadata": {
    "collapsed": false,
    "pycharm": {
     "name": "#%%\n"
    }
   }
  },
  {
   "cell_type": "code",
   "execution_count": 44,
   "outputs": [
    {
     "name": "stderr",
     "output_type": "stream",
     "text": [
      "INFO:root:Accessing 'age' giving 30\n"
     ]
    },
    {
     "data": {
      "text/plain": "30"
     },
     "execution_count": 44,
     "metadata": {},
     "output_type": "execute_result"
    }
   ],
   "source": [
    "mary.age"
   ],
   "metadata": {
    "collapsed": false,
    "pycharm": {
     "name": "#%%\n"
    }
   }
  },
  {
   "cell_type": "code",
   "execution_count": 45,
   "outputs": [
    {
     "name": "stderr",
     "output_type": "stream",
     "text": [
      "INFO:root:Accessing 'age' giving 40\n"
     ]
    },
    {
     "data": {
      "text/plain": "40"
     },
     "execution_count": 45,
     "metadata": {},
     "output_type": "execute_result"
    }
   ],
   "source": [
    "david.age"
   ],
   "metadata": {
    "collapsed": false,
    "pycharm": {
     "name": "#%%\n"
    }
   }
  },
  {
   "cell_type": "markdown",
   "source": [
    "그러나 위와 같은 방법의 문제점은 딱 age 하나 밖에 descriptor를 설정하지 못한다는 단점이 있다.\n",
    "아래에서 위와 같은 문제를 해결해보자\n",
    "\n",
    "descriptor를 사용할 때 각 descriptor에게 어떤 변수명이 사용됐는지 알려줄 수 있다.<br>\n",
    "_Person_ class는 2개의 name, age라는 descriptor instance를 가지고 있다.<br>\n",
    "\n",
    "_Person_ class가 정의될 때, \\_\\_set_name__이라는 함수를 callback한다.<br>\n",
    "name, age에게 이들의 public, private 변수명을 알려주기 위해서이다."
   ],
   "metadata": {
    "collapsed": false,
    "pycharm": {
     "name": "#%% md\n"
    }
   }
  },
  {
   "cell_type": "code",
   "execution_count": 46,
   "outputs": [],
   "source": [
    "import logging\n",
    "\n",
    "logging.basicConfig(level=logging.INFO)\n",
    "\n",
    "class LoggedAccess:\n",
    "    def __set_name__(self, owner, name):\n",
    "        self.public_name = name\n",
    "        self.private_name = '_' + name\n",
    "\n",
    "    def __get__(self, instance, owner):\n",
    "        value = getattr(instance, self.private_name)\n",
    "        logging.info(f'Accessing {self.public_name} to {value}')\n",
    "        return value\n",
    "\n",
    "    def __set__(self, instance, value):\n",
    "        logging.info(f'Updating {self.public_name} to {value}')\n",
    "        setattr(instance, self.private_name, value)\n",
    "\n",
    "class Person:\n",
    "    name = LoggedAccess()\n",
    "    age = LoggedAccess()\n",
    "\n",
    "    def __init__(self, name, age):\n",
    "        self.name = name\n",
    "        self.age = age\n",
    "\n",
    "    def birthday(self):\n",
    "        self.age += 1"
   ],
   "metadata": {
    "collapsed": false,
    "pycharm": {
     "name": "#%%\n"
    }
   }
  },
  {
   "cell_type": "markdown",
   "source": [
    "Person classr가 정의될 때, 각 public, private name들을 저장하기 위해 \\_\\_set_name__이 callback 되었다.<br>\n",
    "vars 함수를 통해 정말 그렇게 되었는지 확인해보자.<br>\n",
    "\n",
    "descriptor는 'dot operator'에 의해서만 invoke 된다.<br>\n",
    "따라서 아래의 두 코드에서는 log가 발생되지 않는다."
   ],
   "metadata": {
    "collapsed": false,
    "pycharm": {
     "name": "#%% md\n"
    }
   }
  },
  {
   "cell_type": "code",
   "execution_count": 47,
   "outputs": [
    {
     "data": {
      "text/plain": "{'public_name': 'name', 'private_name': '_name'}"
     },
     "execution_count": 47,
     "metadata": {},
     "output_type": "execute_result"
    }
   ],
   "source": [
    "vars(vars(Person)['name'])"
   ],
   "metadata": {
    "collapsed": false,
    "pycharm": {
     "name": "#%%\n"
    }
   }
  },
  {
   "cell_type": "code",
   "execution_count": 48,
   "outputs": [
    {
     "data": {
      "text/plain": "{'public_name': 'age', 'private_name': '_age'}"
     },
     "execution_count": 48,
     "metadata": {},
     "output_type": "execute_result"
    }
   ],
   "source": [
    "vars(vars(Person)['age'])"
   ],
   "metadata": {
    "collapsed": false,
    "pycharm": {
     "name": "#%%\n"
    }
   }
  },
  {
   "cell_type": "markdown",
   "source": [
    "그러나 아래의 코드에서는 모두 dot operator가 사용되므로 log가 발생했다."
   ],
   "metadata": {
    "collapsed": false,
    "pycharm": {
     "name": "#%% md\n"
    }
   }
  },
  {
   "cell_type": "code",
   "execution_count": 49,
   "outputs": [
    {
     "name": "stderr",
     "output_type": "stream",
     "text": [
      "INFO:root:Updating name to Pete P\n",
      "INFO:root:Updating age to 10\n",
      "INFO:root:Updating name to Kate K\n",
      "INFO:root:Updating age to 20\n"
     ]
    }
   ],
   "source": [
    "pete = Person('Pete P', 10)\n",
    "kate = Person('Kate K', 20)"
   ],
   "metadata": {
    "collapsed": false,
    "pycharm": {
     "name": "#%%\n"
    }
   }
  },
  {
   "cell_type": "markdown",
   "source": [
    "descriptor instance에는 private name만 contain하게 된다."
   ],
   "metadata": {
    "collapsed": false,
    "pycharm": {
     "name": "#%% md\n"
    }
   }
  },
  {
   "cell_type": "code",
   "execution_count": 50,
   "outputs": [
    {
     "name": "stdout",
     "output_type": "stream",
     "text": [
      "{'_name': 'Pete P', '_age': 10}\n",
      "{'_name': 'Kate K', '_age': 20}\n"
     ]
    }
   ],
   "source": [
    "print(vars(pete))\n",
    "print(vars(kate))"
   ],
   "metadata": {
    "collapsed": false,
    "pycharm": {
     "name": "#%%\n"
    }
   }
  },
  {
   "cell_type": "markdown",
   "source": [
    "## Closing thought\n",
    "- descriptor는 \\_\\_get__, \\_\\_set__, \\_\\_delete__ method를 정의하는 class를 지칭하며,<br>\n",
    "optional 하게 \\_\\_set_name__ 도 포함할 수 있다.\n",
    "- descriptor는 dot operator에 의해서만 invoke 된다.\n",
    "- 오직 class variable로 선언될 때만 사용 가능하다. instance로 선언되면 아무런 효과도 없다.\n",
    "- descriptor의 motivation은 attrubute를 lookup할 때 발생하는 상황에 대하여 통제할 수 있도록<br>\n",
    " class variable에 objects를 저장할 수 있는 hook을 제공하는 것이다.<br>\n",
    "- classmethod, staticmethod, property등등이 descriptor로서 사용된다."
   ],
   "metadata": {
    "collapsed": false,
    "pycharm": {
     "name": "#%% md\n"
    }
   }
  },
  {
   "cell_type": "markdown",
   "source": [
    "- 아래는 본문에서 제시한 유효성을 검사하는 객체를 어떻게 만드는지 보여주는 예이다.\n",
    "- 유효성 검사 함수는 자유롭게 생성할 수 있으며, 객체에 값을 할당하기 전에 실행된다."
   ],
   "metadata": {
    "collapsed": false,
    "pycharm": {
     "name": "#%% md\n"
    }
   }
  },
  {
   "cell_type": "code",
   "execution_count": 51,
   "outputs": [],
   "source": [
    "class Validation:\n",
    "    def __init__(self, validation_func, error_msg:str):\n",
    "        self.validation_func = validation_func\n",
    "        self.error_msg = error_msg\n",
    "\n",
    "    def __call__(self, value):\n",
    "        if not self.validation_func(value):\n",
    "            raise ValueError(f'{value!r} {self.error_msg}')\n",
    "\n",
    "class Field:    # descriptor\n",
    "    def __init__(self, *validations):\n",
    "        self._name = None\n",
    "        self.validations = validations\n",
    "\n",
    "    def __set_name__(self, owner, name):\n",
    "        self._name = name\n",
    "\n",
    "    def __get__(self, instance, owner):\n",
    "        if instance is None:    # classㄴ에서 호출\n",
    "            return self\n",
    "        return instance.__dict__[self._name]\n",
    "\n",
    "    def validate(self, value):\n",
    "        for validation in self.validations:\n",
    "            validation(value)\n",
    "\n",
    "    def __set__(self, instance, value):\n",
    "        self.validate(value)\n",
    "        instance.__dict__[self._name] = value\n",
    "\n",
    "class ClientClass:\n",
    "    descriptor = Field(\n",
    "        Validation(lambda x: isinstance(x, (int, float)), '는 숫자가 아님'),\n",
    "        Validation(lambda x: x >= 0, \"는 0보다 작음\")\n",
    "    )"
   ],
   "metadata": {
    "collapsed": false,
    "pycharm": {
     "name": "#%%\n"
    }
   }
  },
  {
   "cell_type": "code",
   "execution_count": 52,
   "outputs": [
    {
     "data": {
      "text/plain": "42"
     },
     "execution_count": 52,
     "metadata": {},
     "output_type": "execute_result"
    }
   ],
   "source": [
    "client = ClientClass()\n",
    "client.descriptor = 42\n",
    "client.descriptor"
   ],
   "metadata": {
    "collapsed": false,
    "pycharm": {
     "name": "#%%\n"
    }
   }
  },
  {
   "cell_type": "code",
   "execution_count": 53,
   "outputs": [
    {
     "ename": "ValueError",
     "evalue": "-42 는 0보다 작음",
     "output_type": "error",
     "traceback": [
      "\u001B[0;31m---------------------------------------------------------------------------\u001B[0m",
      "\u001B[0;31mValueError\u001B[0m                                Traceback (most recent call last)",
      "\u001B[0;32m<ipython-input-53-c7448f081032>\u001B[0m in \u001B[0;36m<module>\u001B[0;34m\u001B[0m\n\u001B[0;32m----> 1\u001B[0;31m \u001B[0mclient\u001B[0m\u001B[0;34m.\u001B[0m\u001B[0mdescriptor\u001B[0m \u001B[0;34m=\u001B[0m \u001B[0;34m-\u001B[0m\u001B[0;36m42\u001B[0m\u001B[0;34m\u001B[0m\u001B[0;34m\u001B[0m\u001B[0m\n\u001B[0m",
      "\u001B[0;32m<ipython-input-51-9f05619af0bc>\u001B[0m in \u001B[0;36m__set__\u001B[0;34m(self, instance, value)\u001B[0m\n\u001B[1;32m     26\u001B[0m \u001B[0;34m\u001B[0m\u001B[0m\n\u001B[1;32m     27\u001B[0m     \u001B[0;32mdef\u001B[0m \u001B[0m__set__\u001B[0m\u001B[0;34m(\u001B[0m\u001B[0mself\u001B[0m\u001B[0;34m,\u001B[0m \u001B[0minstance\u001B[0m\u001B[0;34m,\u001B[0m \u001B[0mvalue\u001B[0m\u001B[0;34m)\u001B[0m\u001B[0;34m:\u001B[0m\u001B[0;34m\u001B[0m\u001B[0;34m\u001B[0m\u001B[0m\n\u001B[0;32m---> 28\u001B[0;31m         \u001B[0mself\u001B[0m\u001B[0;34m.\u001B[0m\u001B[0mvalidate\u001B[0m\u001B[0;34m(\u001B[0m\u001B[0mvalue\u001B[0m\u001B[0;34m)\u001B[0m\u001B[0;34m\u001B[0m\u001B[0;34m\u001B[0m\u001B[0m\n\u001B[0m\u001B[1;32m     29\u001B[0m         \u001B[0minstance\u001B[0m\u001B[0;34m.\u001B[0m\u001B[0m__dict__\u001B[0m\u001B[0;34m[\u001B[0m\u001B[0mself\u001B[0m\u001B[0;34m.\u001B[0m\u001B[0m_name\u001B[0m\u001B[0;34m]\u001B[0m \u001B[0;34m=\u001B[0m \u001B[0mvalue\u001B[0m\u001B[0;34m\u001B[0m\u001B[0;34m\u001B[0m\u001B[0m\n\u001B[1;32m     30\u001B[0m \u001B[0;34m\u001B[0m\u001B[0m\n",
      "\u001B[0;32m<ipython-input-51-9f05619af0bc>\u001B[0m in \u001B[0;36mvalidate\u001B[0;34m(self, value)\u001B[0m\n\u001B[1;32m     23\u001B[0m     \u001B[0;32mdef\u001B[0m \u001B[0mvalidate\u001B[0m\u001B[0;34m(\u001B[0m\u001B[0mself\u001B[0m\u001B[0;34m,\u001B[0m \u001B[0mvalue\u001B[0m\u001B[0;34m)\u001B[0m\u001B[0;34m:\u001B[0m\u001B[0;34m\u001B[0m\u001B[0;34m\u001B[0m\u001B[0m\n\u001B[1;32m     24\u001B[0m         \u001B[0;32mfor\u001B[0m \u001B[0mvalidation\u001B[0m \u001B[0;32min\u001B[0m \u001B[0mself\u001B[0m\u001B[0;34m.\u001B[0m\u001B[0mvalidations\u001B[0m\u001B[0;34m:\u001B[0m\u001B[0;34m\u001B[0m\u001B[0;34m\u001B[0m\u001B[0m\n\u001B[0;32m---> 25\u001B[0;31m             \u001B[0mvalidation\u001B[0m\u001B[0;34m(\u001B[0m\u001B[0mvalue\u001B[0m\u001B[0;34m)\u001B[0m\u001B[0;34m\u001B[0m\u001B[0;34m\u001B[0m\u001B[0m\n\u001B[0m\u001B[1;32m     26\u001B[0m \u001B[0;34m\u001B[0m\u001B[0m\n\u001B[1;32m     27\u001B[0m     \u001B[0;32mdef\u001B[0m \u001B[0m__set__\u001B[0m\u001B[0;34m(\u001B[0m\u001B[0mself\u001B[0m\u001B[0;34m,\u001B[0m \u001B[0minstance\u001B[0m\u001B[0;34m,\u001B[0m \u001B[0mvalue\u001B[0m\u001B[0;34m)\u001B[0m\u001B[0;34m:\u001B[0m\u001B[0;34m\u001B[0m\u001B[0;34m\u001B[0m\u001B[0m\n",
      "\u001B[0;32m<ipython-input-51-9f05619af0bc>\u001B[0m in \u001B[0;36m__call__\u001B[0;34m(self, value)\u001B[0m\n\u001B[1;32m      6\u001B[0m     \u001B[0;32mdef\u001B[0m \u001B[0m__call__\u001B[0m\u001B[0;34m(\u001B[0m\u001B[0mself\u001B[0m\u001B[0;34m,\u001B[0m \u001B[0mvalue\u001B[0m\u001B[0;34m)\u001B[0m\u001B[0;34m:\u001B[0m\u001B[0;34m\u001B[0m\u001B[0;34m\u001B[0m\u001B[0m\n\u001B[1;32m      7\u001B[0m         \u001B[0;32mif\u001B[0m \u001B[0;32mnot\u001B[0m \u001B[0mself\u001B[0m\u001B[0;34m.\u001B[0m\u001B[0mvalidation_func\u001B[0m\u001B[0;34m(\u001B[0m\u001B[0mvalue\u001B[0m\u001B[0;34m)\u001B[0m\u001B[0;34m:\u001B[0m\u001B[0;34m\u001B[0m\u001B[0;34m\u001B[0m\u001B[0m\n\u001B[0;32m----> 8\u001B[0;31m             \u001B[0;32mraise\u001B[0m \u001B[0mValueError\u001B[0m\u001B[0;34m(\u001B[0m\u001B[0;34mf'{value!r} {self.error_msg}'\u001B[0m\u001B[0;34m)\u001B[0m\u001B[0;34m\u001B[0m\u001B[0;34m\u001B[0m\u001B[0m\n\u001B[0m\u001B[1;32m      9\u001B[0m \u001B[0;34m\u001B[0m\u001B[0m\n\u001B[1;32m     10\u001B[0m \u001B[0;32mclass\u001B[0m \u001B[0mField\u001B[0m\u001B[0;34m:\u001B[0m    \u001B[0;31m# descriptor\u001B[0m\u001B[0;34m\u001B[0m\u001B[0;34m\u001B[0m\u001B[0m\n",
      "\u001B[0;31mValueError\u001B[0m: -42 는 0보다 작음"
     ]
    }
   ],
   "source": [
    "client.descriptor = -42"
   ],
   "metadata": {
    "collapsed": false,
    "pycharm": {
     "name": "#%%\n"
    }
   }
  },
  {
   "cell_type": "code",
   "execution_count": 54,
   "outputs": [
    {
     "ename": "ValueError",
     "evalue": "'invalid value' 는 숫자가 아님",
     "output_type": "error",
     "traceback": [
      "\u001B[0;31m---------------------------------------------------------------------------\u001B[0m",
      "\u001B[0;31mValueError\u001B[0m                                Traceback (most recent call last)",
      "\u001B[0;32m<ipython-input-54-41f13f9b5d53>\u001B[0m in \u001B[0;36m<module>\u001B[0;34m\u001B[0m\n\u001B[0;32m----> 1\u001B[0;31m \u001B[0mclient\u001B[0m\u001B[0;34m.\u001B[0m\u001B[0mdescriptor\u001B[0m \u001B[0;34m=\u001B[0m \u001B[0;34m'invalid value'\u001B[0m\u001B[0;34m\u001B[0m\u001B[0;34m\u001B[0m\u001B[0m\n\u001B[0m",
      "\u001B[0;32m<ipython-input-51-9f05619af0bc>\u001B[0m in \u001B[0;36m__set__\u001B[0;34m(self, instance, value)\u001B[0m\n\u001B[1;32m     26\u001B[0m \u001B[0;34m\u001B[0m\u001B[0m\n\u001B[1;32m     27\u001B[0m     \u001B[0;32mdef\u001B[0m \u001B[0m__set__\u001B[0m\u001B[0;34m(\u001B[0m\u001B[0mself\u001B[0m\u001B[0;34m,\u001B[0m \u001B[0minstance\u001B[0m\u001B[0;34m,\u001B[0m \u001B[0mvalue\u001B[0m\u001B[0;34m)\u001B[0m\u001B[0;34m:\u001B[0m\u001B[0;34m\u001B[0m\u001B[0;34m\u001B[0m\u001B[0m\n\u001B[0;32m---> 28\u001B[0;31m         \u001B[0mself\u001B[0m\u001B[0;34m.\u001B[0m\u001B[0mvalidate\u001B[0m\u001B[0;34m(\u001B[0m\u001B[0mvalue\u001B[0m\u001B[0;34m)\u001B[0m\u001B[0;34m\u001B[0m\u001B[0;34m\u001B[0m\u001B[0m\n\u001B[0m\u001B[1;32m     29\u001B[0m         \u001B[0minstance\u001B[0m\u001B[0;34m.\u001B[0m\u001B[0m__dict__\u001B[0m\u001B[0;34m[\u001B[0m\u001B[0mself\u001B[0m\u001B[0;34m.\u001B[0m\u001B[0m_name\u001B[0m\u001B[0;34m]\u001B[0m \u001B[0;34m=\u001B[0m \u001B[0mvalue\u001B[0m\u001B[0;34m\u001B[0m\u001B[0;34m\u001B[0m\u001B[0m\n\u001B[1;32m     30\u001B[0m \u001B[0;34m\u001B[0m\u001B[0m\n",
      "\u001B[0;32m<ipython-input-51-9f05619af0bc>\u001B[0m in \u001B[0;36mvalidate\u001B[0;34m(self, value)\u001B[0m\n\u001B[1;32m     23\u001B[0m     \u001B[0;32mdef\u001B[0m \u001B[0mvalidate\u001B[0m\u001B[0;34m(\u001B[0m\u001B[0mself\u001B[0m\u001B[0;34m,\u001B[0m \u001B[0mvalue\u001B[0m\u001B[0;34m)\u001B[0m\u001B[0;34m:\u001B[0m\u001B[0;34m\u001B[0m\u001B[0;34m\u001B[0m\u001B[0m\n\u001B[1;32m     24\u001B[0m         \u001B[0;32mfor\u001B[0m \u001B[0mvalidation\u001B[0m \u001B[0;32min\u001B[0m \u001B[0mself\u001B[0m\u001B[0;34m.\u001B[0m\u001B[0mvalidations\u001B[0m\u001B[0;34m:\u001B[0m\u001B[0;34m\u001B[0m\u001B[0;34m\u001B[0m\u001B[0m\n\u001B[0;32m---> 25\u001B[0;31m             \u001B[0mvalidation\u001B[0m\u001B[0;34m(\u001B[0m\u001B[0mvalue\u001B[0m\u001B[0;34m)\u001B[0m\u001B[0;34m\u001B[0m\u001B[0;34m\u001B[0m\u001B[0m\n\u001B[0m\u001B[1;32m     26\u001B[0m \u001B[0;34m\u001B[0m\u001B[0m\n\u001B[1;32m     27\u001B[0m     \u001B[0;32mdef\u001B[0m \u001B[0m__set__\u001B[0m\u001B[0;34m(\u001B[0m\u001B[0mself\u001B[0m\u001B[0;34m,\u001B[0m \u001B[0minstance\u001B[0m\u001B[0;34m,\u001B[0m \u001B[0mvalue\u001B[0m\u001B[0;34m)\u001B[0m\u001B[0;34m:\u001B[0m\u001B[0;34m\u001B[0m\u001B[0;34m\u001B[0m\u001B[0m\n",
      "\u001B[0;32m<ipython-input-51-9f05619af0bc>\u001B[0m in \u001B[0;36m__call__\u001B[0;34m(self, value)\u001B[0m\n\u001B[1;32m      6\u001B[0m     \u001B[0;32mdef\u001B[0m \u001B[0m__call__\u001B[0m\u001B[0;34m(\u001B[0m\u001B[0mself\u001B[0m\u001B[0;34m,\u001B[0m \u001B[0mvalue\u001B[0m\u001B[0;34m)\u001B[0m\u001B[0;34m:\u001B[0m\u001B[0;34m\u001B[0m\u001B[0;34m\u001B[0m\u001B[0m\n\u001B[1;32m      7\u001B[0m         \u001B[0;32mif\u001B[0m \u001B[0;32mnot\u001B[0m \u001B[0mself\u001B[0m\u001B[0;34m.\u001B[0m\u001B[0mvalidation_func\u001B[0m\u001B[0;34m(\u001B[0m\u001B[0mvalue\u001B[0m\u001B[0;34m)\u001B[0m\u001B[0;34m:\u001B[0m\u001B[0;34m\u001B[0m\u001B[0;34m\u001B[0m\u001B[0m\n\u001B[0;32m----> 8\u001B[0;31m             \u001B[0;32mraise\u001B[0m \u001B[0mValueError\u001B[0m\u001B[0;34m(\u001B[0m\u001B[0;34mf'{value!r} {self.error_msg}'\u001B[0m\u001B[0;34m)\u001B[0m\u001B[0;34m\u001B[0m\u001B[0;34m\u001B[0m\u001B[0m\n\u001B[0m\u001B[1;32m      9\u001B[0m \u001B[0;34m\u001B[0m\u001B[0m\n\u001B[1;32m     10\u001B[0m \u001B[0;32mclass\u001B[0m \u001B[0mField\u001B[0m\u001B[0;34m:\u001B[0m    \u001B[0;31m# descriptor\u001B[0m\u001B[0;34m\u001B[0m\u001B[0;34m\u001B[0m\u001B[0m\n",
      "\u001B[0;31mValueError\u001B[0m: 'invalid value' 는 숫자가 아님"
     ]
    }
   ],
   "source": [
    "client.descriptor = 'invalid value'"
   ],
   "metadata": {
    "collapsed": false,
    "pycharm": {
     "name": "#%%\n"
    }
   }
  },
  {
   "cell_type": "markdown",
   "source": [
    "여기서 기억할 점은 property 자리에 놓일 수 있는 것은 descriptor로 추상화할 수 있으며<br>\n",
    "여러번 재사용이 가능하다는 것이다.\n",
    "\n",
    "다음 예제는 이 메서드를 사용하여 관리자 권한이 없는 객체에서 속성을 제거하지 못하도록 하는 디스크립터를 만든다.<br>"
   ],
   "metadata": {
    "collapsed": false,
    "pycharm": {
     "name": "#%% md\n"
    }
   }
  },
  {
   "cell_type": "code",
   "execution_count": 56,
   "outputs": [],
   "source": [
    "class ProtectedAttribute:\n",
    "    def __init__(self, requires_role=None) -> None:\n",
    "        self.permission_required = requires_role\n",
    "        self._name = None\n",
    "\n",
    "    def __set_name__(self, owner, name):\n",
    "        self._name = name\n",
    "\n",
    "    def __set__(self, user, value):\n",
    "        if value is None:\n",
    "            raise ValueError(f'{self._name}를 None으로 설정할 수 없음')\n",
    "        user.__dict__[self._name] = value\n",
    "\n",
    "    def __delete__(self, user):\n",
    "        if self.permission_required in user.permissions:\n",
    "            user.__dict__[self._name] = None\n",
    "        else:\n",
    "            raise ValueError(f'{user!r} 사용자는 {self.permission_required} 권한이 없음')\n",
    "\n",
    "class User:\n",
    "    \"\"\"admin 권한을 가진 사용자만 이메일을 주소를 삭제할 수 있음.\"\"\"\n",
    "    email = ProtectedAttribute(requires_role=\"admin\")\n",
    "\n",
    "    def __init__(self, user_name: str, email: str, permissions: list=None) -> None:\n",
    "        self.username = user_name\n",
    "        self.email = email\n",
    "        self.permissions = permissions or []\n",
    "\n",
    "    def __str__(self):\n",
    "        return self.username"
   ],
   "metadata": {
    "collapsed": false,
    "pycharm": {
     "name": "#%%\n"
    }
   }
  },
  {
   "cell_type": "code",
   "execution_count": 61,
   "outputs": [
    {
     "data": {
      "text/plain": "'root@d.com'"
     },
     "execution_count": 61,
     "metadata": {},
     "output_type": "execute_result"
    }
   ],
   "source": [
    "admin = User('root', 'root@d.com', ['admin'])\n",
    "user = User('user', 'user1@d.com', ['email', 'helpdesk'])\n",
    "admin.email"
   ],
   "metadata": {
    "collapsed": false,
    "pycharm": {
     "name": "#%%\n"
    }
   }
  },
  {
   "cell_type": "code",
   "execution_count": 63,
   "outputs": [
    {
     "data": {
      "text/plain": "True"
     },
     "execution_count": 63,
     "metadata": {},
     "output_type": "execute_result"
    }
   ],
   "source": [
    "del admin.email\n",
    "admin.email is None"
   ],
   "metadata": {
    "collapsed": false,
    "pycharm": {
     "name": "#%%\n"
    }
   }
  },
  {
   "cell_type": "code",
   "execution_count": 64,
   "outputs": [
    {
     "data": {
      "text/plain": "'user1@d.com'"
     },
     "execution_count": 64,
     "metadata": {},
     "output_type": "execute_result"
    }
   ],
   "source": [
    "user.email"
   ],
   "metadata": {
    "collapsed": false,
    "pycharm": {
     "name": "#%%\n"
    }
   }
  },
  {
   "cell_type": "code",
   "execution_count": 65,
   "outputs": [
    {
     "ename": "ValueError",
     "evalue": "<__main__.User object at 0x7ffa60529d00> 사용자는 admin 권한이 없음",
     "output_type": "error",
     "traceback": [
      "\u001B[0;31m---------------------------------------------------------------------------\u001B[0m",
      "\u001B[0;31mValueError\u001B[0m                                Traceback (most recent call last)",
      "\u001B[0;32m<ipython-input-65-c33f7427572a>\u001B[0m in \u001B[0;36m<module>\u001B[0;34m\u001B[0m\n\u001B[0;32m----> 1\u001B[0;31m \u001B[0;32mdel\u001B[0m \u001B[0muser\u001B[0m\u001B[0;34m.\u001B[0m\u001B[0memail\u001B[0m\u001B[0;34m\u001B[0m\u001B[0;34m\u001B[0m\u001B[0m\n\u001B[0m",
      "\u001B[0;32m<ipython-input-56-a323f3c47a95>\u001B[0m in \u001B[0;36m__delete__\u001B[0;34m(self, user)\u001B[0m\n\u001B[1;32m     16\u001B[0m             \u001B[0muser\u001B[0m\u001B[0;34m.\u001B[0m\u001B[0m__dict__\u001B[0m\u001B[0;34m[\u001B[0m\u001B[0mself\u001B[0m\u001B[0;34m.\u001B[0m\u001B[0m_name\u001B[0m\u001B[0;34m]\u001B[0m \u001B[0;34m=\u001B[0m \u001B[0;32mNone\u001B[0m\u001B[0;34m\u001B[0m\u001B[0;34m\u001B[0m\u001B[0m\n\u001B[1;32m     17\u001B[0m         \u001B[0;32melse\u001B[0m\u001B[0;34m:\u001B[0m\u001B[0;34m\u001B[0m\u001B[0;34m\u001B[0m\u001B[0m\n\u001B[0;32m---> 18\u001B[0;31m             \u001B[0;32mraise\u001B[0m \u001B[0mValueError\u001B[0m\u001B[0;34m(\u001B[0m\u001B[0;34mf'{user!r} 사용자는 {self.permission_required} 권한이 없음'\u001B[0m\u001B[0;34m)\u001B[0m\u001B[0;34m\u001B[0m\u001B[0;34m\u001B[0m\u001B[0m\n\u001B[0m\u001B[1;32m     19\u001B[0m \u001B[0;34m\u001B[0m\u001B[0m\n\u001B[1;32m     20\u001B[0m \u001B[0;32mclass\u001B[0m \u001B[0mUser\u001B[0m\u001B[0;34m:\u001B[0m\u001B[0;34m\u001B[0m\u001B[0;34m\u001B[0m\u001B[0m\n",
      "\u001B[0;31mValueError\u001B[0m: <__main__.User object at 0x7ffa60529d00> 사용자는 admin 권한이 없음"
     ]
    }
   ],
   "source": [
    "del user.email"
   ],
   "metadata": {
    "collapsed": false,
    "pycharm": {
     "name": "#%%\n"
    }
   }
  },
  {
   "cell_type": "markdown",
   "source": [
    "### \\_\\_set_name__\n",
    "- 일반적으로 하위 호환을 위해 \\_\\_init__에 기본 값을 지정하고 \\_\\_set_name__ 를 함께 사용하는 것이 좋다"
   ],
   "metadata": {
    "collapsed": false,
    "pycharm": {
     "name": "#%% md\n"
    }
   }
  },
  {
   "cell_type": "markdown",
   "source": [
    "# descriptor의 유형\n",
    "\n",
    "- data descrptor : \\_\\_set__이나 \\_\\_delete__ method를 구현함\n",
    "- non-data descriptor : \\_\\_get__만 구현함\n",
    "- \\_\\_set_name__ 은 위 분류에 영향을 미치지 않는다.\n",
    "\n",
    "### non-data descriptor"
   ],
   "metadata": {
    "collapsed": false,
    "pycharm": {
     "name": "#%% md\n"
    }
   }
  },
  {
   "cell_type": "code",
   "execution_count": 67,
   "outputs": [],
   "source": [
    "class NonDataDescriptor:\n",
    "    def __get__(self, instance, owner):\n",
    "        if instance is None:\n",
    "            return self\n",
    "        return 42\n",
    "\n",
    "class ClientClass:\n",
    "    descriptor = NonDataDescriptor()"
   ],
   "metadata": {
    "collapsed": false,
    "pycharm": {
     "name": "#%%\n"
    }
   }
  },
  {
   "cell_type": "code",
   "execution_count": 68,
   "outputs": [
    {
     "data": {
      "text/plain": "42"
     },
     "execution_count": 68,
     "metadata": {},
     "output_type": "execute_result"
    }
   ],
   "source": [
    "client = ClientClass()\n",
    "client.descriptor"
   ],
   "metadata": {
    "collapsed": false,
    "pycharm": {
     "name": "#%%\n"
    }
   }
  },
  {
   "cell_type": "code",
   "execution_count": 69,
   "outputs": [
    {
     "data": {
      "text/plain": "43"
     },
     "execution_count": 69,
     "metadata": {},
     "output_type": "execute_result"
    }
   ],
   "source": [
    "client.descriptor = 43\n",
    "client.descriptor"
   ],
   "metadata": {
    "collapsed": false,
    "pycharm": {
     "name": "#%%\n"
    }
   }
  },
  {
   "cell_type": "markdown",
   "source": [
    "여기서 descriptor를 지우고 다시 lookup하게 되면 어떤 결과를 얻게 될까?"
   ],
   "metadata": {
    "collapsed": false,
    "pycharm": {
     "name": "#%% md\n"
    }
   }
  },
  {
   "cell_type": "code",
   "execution_count": 70,
   "outputs": [
    {
     "data": {
      "text/plain": "42"
     },
     "execution_count": 70,
     "metadata": {},
     "output_type": "execute_result"
    }
   ],
   "source": [
    "del client.descriptor\n",
    "client.descriptor"
   ],
   "metadata": {
    "collapsed": false,
    "pycharm": {
     "name": "#%%\n"
    }
   }
  },
  {
   "cell_type": "code",
   "execution_count": 71,
   "outputs": [
    {
     "data": {
      "text/plain": "{}"
     },
     "execution_count": 71,
     "metadata": {},
     "output_type": "execute_result"
    }
   ],
   "source": [
    "vars(client)"
   ],
   "metadata": {
    "collapsed": false,
    "pycharm": {
     "name": "#%%\n"
    }
   }
  },
  {
   "cell_type": "markdown",
   "source": [
    ".descriptor attribute을 lookup하면 client.\\_\\_dict__에서 'descriptor'를 찾지 못하고<br>\n",
    "마침내 클래스에서 디스크립터를 찾게 된다. 이것이 \\_\\_get__ method가 호출되는 이유이다.\n",
    "\n",
    "그러나 \\_\\_set__ method가 정의되지 않으면 인스턴스의 사전이 변경되므로 client.\\_\\_dict__ 가 변경된다.<br>"
   ],
   "metadata": {
    "collapsed": false,
    "pycharm": {
     "name": "#%% md\n"
    }
   }
  },
  {
   "cell_type": "code",
   "execution_count": 72,
   "outputs": [
    {
     "data": {
      "text/plain": "{'descriptor': 99}"
     },
     "execution_count": 72,
     "metadata": {},
     "output_type": "execute_result"
    }
   ],
   "source": [
    "client.descriptor = 99\n",
    "vars(client)"
   ],
   "metadata": {
    "collapsed": false,
    "pycharm": {
     "name": "#%%\n"
    }
   }
  },
  {
   "cell_type": "markdown",
   "source": [
    "### data descriptor\n",
    "data descriptor와의 차이를 살펴보기 위해 새로운 클래스를 정의하자"
   ],
   "metadata": {
    "collapsed": false,
    "pycharm": {
     "name": "#%% md\n"
    }
   }
  },
  {
   "cell_type": "code",
   "execution_count": null,
   "outputs": [],
   "source": [],
   "metadata": {
    "collapsed": false,
    "pycharm": {
     "name": "#%%\n"
    }
   }
  },
  {
   "cell_type": "code",
   "execution_count": null,
   "outputs": [],
   "source": [
    "\n",
    "\n",
    "\n",
    "\n",
    "\n"
   ],
   "metadata": {
    "collapsed": false,
    "pycharm": {
     "name": "#%%\n"
    }
   }
  }
 ],
 "metadata": {
  "kernelspec": {
   "name": "python3",
   "language": "python",
   "display_name": "Python 3"
  },
  "language_info": {
   "codemirror_mode": {
    "name": "ipython",
    "version": 2
   },
   "file_extension": ".py",
   "mimetype": "text/x-python",
   "name": "python",
   "nbconvert_exporter": "python",
   "pygments_lexer": "ipython2",
   "version": "2.7.6"
  }
 },
 "nbformat": 4,
 "nbformat_minor": 0
}