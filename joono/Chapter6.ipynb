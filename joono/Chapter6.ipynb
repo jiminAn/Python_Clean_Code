{
 "cells": [
  {
   "cell_type": "markdown",
   "metadata": {
    "collapsed": true,
    "pycharm": {
     "name": "#%% md\n"
    }
   },
   "source": [
    "# Descriptor\n",
    "\n",
    "### 학습 내용\n",
    "- descriptor가 무엇인지 이해하고 어떻게 효율적으로 동작하는지 이해한다.\n",
    "- data descriptor vs non-data descriptor 의 개념적 차이와 세부구현의 차이를 분석\n",
    "- descriptor를 활용한 코드 재사용 방법\n",
    "- 좋은 활용 예\n",
    "\n",
    "학습에 앞서 먼저 descriptor의 syntax를 알아보고자 한다.\n",
    "https://docs.python.org/3/howto/descriptor.html<br>\n",
    "위 사이트에서 공부하였음\n",
    "\n",
    "가장 쉬운 예제는 아래와 같다<br>\n",
    "A descripotr that returns a constant"
   ]
  },
  {
   "cell_type": "code",
   "execution_count": 1,
   "outputs": [],
   "source": [
    "class Ten:\n",
    "    def __get__(self, obj, objtype=None):\n",
    "        return 10"
   ],
   "metadata": {
    "collapsed": false,
    "pycharm": {
     "name": "#%%\n"
    }
   }
  },
  {
   "cell_type": "markdown",
   "source": [
    "To use the desciptor, it must be stored as a class Variable in another class<br>"
   ],
   "metadata": {
    "collapsed": false,
    "pycharm": {
     "name": "#%% md\n"
    }
   }
  },
  {
   "cell_type": "code",
   "execution_count": 2,
   "outputs": [],
   "source": [
    "class A:\n",
    "    x = 5\n",
    "    y = Ten()"
   ],
   "metadata": {
    "collapsed": false,
    "pycharm": {
     "name": "#%%\n"
    }
   }
  },
  {
   "cell_type": "code",
   "source": [
    "a = A()\n",
    "print(a.x)\n",
    "print(a.y)"
   ],
   "metadata": {
    "collapsed": false,
    "pycharm": {
     "name": "#%%\n"
    }
   },
   "execution_count": 3,
   "outputs": [
    {
     "name": "stdout",
     "output_type": "stream",
     "text": [
      "5\n",
      "10\n"
     ]
    }
   ]
  },
  {
   "cell_type": "markdown",
   "source": [
    "In the a.x attribute lookup, the dot operator finds the key x<br>\n",
    "and the value 5 in the class dictionary.<br>\n",
    "\n",
    "In the a.y lookup, the dot operator finds a descripotr instance, <br>\n",
    "recognized by its \\_\\_get__ method, and calls that method which returns 10<br>\n",
    "\n",
    "Note that the value 10 is not stored in either the class or the instance dic<br>\n",
    "Instead, the value 10 in computed on demand\n",
    "\n",
    "and we're gonna see dynamic lookup"
   ],
   "metadata": {
    "collapsed": false,
    "pycharm": {
     "name": "#%% md\n"
    }
   }
  },
  {
   "cell_type": "markdown",
   "source": [
    "Interesting descriptor typically run computation instead of returning constant<br>"
   ],
   "metadata": {
    "collapsed": false,
    "pycharm": {
     "name": "#%% md\n"
    }
   }
  },
  {
   "cell_type": "code",
   "execution_count": 5,
   "outputs": [],
   "source": [
    "import os\n",
    "\n",
    "class DirectorySize:\n",
    "    def __get__(self, obj, objtype=None):\n",
    "        return len(os.listdir(obj.dirname))\n",
    "\n",
    "class Directory:\n",
    "    size = DirectorySize()\n",
    "\n",
    "    def __init__(self, dirname):\n",
    "        self.dirname = dirname"
   ],
   "metadata": {
    "collapsed": false,
    "pycharm": {
     "name": "#%%\n"
    }
   }
  },
  {
   "cell_type": "code",
   "execution_count": 7,
   "outputs": [
    {
     "name": "stdout",
     "output_type": "stream",
     "text": [
      "9\n",
      "8\n"
     ]
    }
   ],
   "source": [
    "s = Directory('../')\n",
    "j = Directory('../joono')\n",
    "\n",
    "print(s.size)\n",
    "print(j.size)"
   ],
   "metadata": {
    "collapsed": false,
    "pycharm": {
     "name": "#%%\n"
    }
   }
  },
  {
   "cell_type": "markdown",
   "source": [
    "위와 같은 예제를 살펴보면 \\_\\_get__ method가 어떻게 동작하는지, 그 목적이 무엇인지 알 수 있다.<br>\n",
    "\n",
    "descriptor가 가장 자주 사용되는 부분은 instance의 data에 접근을 제어하는 일이다.<br>\n",
    "Descriptor는 public attribute에 저장되고 실제 data는 다른 instance dict에 저장된다.<br>\n",
    "그리고 descriptor의 \\_\\_get__, \\_\\_set__ methods는 public attribute에 접근할 때 호출된다.<br>\n",
    "\n",
    "아래의 예제에서 _age_는 public attribute,<br>\n",
    "_\\_age_는 private attribute이다.<br>\n",
    "그리고 age에 access할 때 마다 descriptor가 lookup, update를 log한다."
   ],
   "metadata": {
    "collapsed": false,
    "pycharm": {
     "name": "#%% md\n"
    }
   }
  },
  {
   "cell_type": "code",
   "execution_count": 8,
   "outputs": [],
   "source": [
    "import logging\n",
    "\n",
    "logging.basicConfig(level=logging.INFO)\n",
    "\n",
    "class LoggedAgeAccess:\n",
    "\n",
    "    def __get__(self, obj, objtype=None):\n",
    "        value = obj._age\n",
    "        logging.info('Accessing %r giving %r', 'age', value)\n",
    "        return value\n",
    "\n",
    "    def __set__(self, obj, value):\n",
    "        logging.info('Updating %r to %r', 'age', value)\n",
    "        obj._age = value\n",
    "\n",
    "class Person:\n",
    "\n",
    "    age = LoggedAgeAccess()             # Descriptor instance\n",
    "\n",
    "    def __init__(self, name, age):\n",
    "        self.name = name                # Regular instance attribute\n",
    "        self.age = age                  # Calls __set__()\n",
    "\n",
    "    def birthday(self):\n",
    "        self.age += 1"
   ],
   "metadata": {
    "collapsed": false,
    "pycharm": {
     "name": "#%%\n"
    }
   }
  },
  {
   "cell_type": "markdown",
   "source": [
    "아래 결과를 보면 regular attribute인 name에 access할 때는 아무런 log도 남지 않지만<br>\n",
    "Descriptor로 정의된 age에 접근할 때면 desciptor가 log를 남긴다.\n",
    "\n",
    "_obj_ parameter는 g나 s같은 instance of Dictionary이고 이는 target directory가 무엇인지<br>\n",
    "\\_\\_get__ method 에게 알려주는 역할을 한다.<br>\n",
    "_objtype_ parameter는 class Dictionary이다.<br>"
   ],
   "metadata": {
    "collapsed": false,
    "pycharm": {
     "name": "#%% md\n"
    }
   }
  },
  {
   "cell_type": "code",
   "execution_count": 9,
   "outputs": [
    {
     "name": "stderr",
     "output_type": "stream",
     "text": [
      "INFO:root:Updating 'age' to 30\n",
      "INFO:root:Updating 'age' to 40\n"
     ]
    }
   ],
   "source": [
    "mary = Person('Mary M', 30)\n",
    "david = Person('David D', 40)"
   ],
   "metadata": {
    "collapsed": false,
    "pycharm": {
     "name": "#%%\n"
    }
   }
  },
  {
   "cell_type": "code",
   "execution_count": 10,
   "outputs": [
    {
     "name": "stdout",
     "output_type": "stream",
     "text": [
      "{'name': 'Mary M', '_age': 30}\n",
      "{'name': 'David D', '_age': 40}\n"
     ]
    }
   ],
   "source": [
    "print(vars(mary))\n",
    "print(vars(david))"
   ],
   "metadata": {
    "collapsed": false,
    "pycharm": {
     "name": "#%%\n"
    }
   }
  },
  {
   "cell_type": "code",
   "execution_count": 11,
   "outputs": [
    {
     "name": "stderr",
     "output_type": "stream",
     "text": [
      "INFO:root:Accessing 'age' giving 30\n"
     ]
    },
    {
     "data": {
      "text/plain": "30"
     },
     "execution_count": 11,
     "metadata": {},
     "output_type": "execute_result"
    }
   ],
   "source": [
    "mary.age"
   ],
   "metadata": {
    "collapsed": false,
    "pycharm": {
     "name": "#%%\n"
    }
   }
  },
  {
   "cell_type": "code",
   "execution_count": 12,
   "outputs": [
    {
     "name": "stderr",
     "output_type": "stream",
     "text": [
      "INFO:root:Accessing 'age' giving 40\n"
     ]
    },
    {
     "data": {
      "text/plain": "40"
     },
     "execution_count": 12,
     "metadata": {},
     "output_type": "execute_result"
    }
   ],
   "source": [
    "david.age"
   ],
   "metadata": {
    "collapsed": false,
    "pycharm": {
     "name": "#%%\n"
    }
   }
  },
  {
   "cell_type": "markdown",
   "source": [
    "그러나 위와 같은 방법의 문제점은 딱 age 하나 밖에 descriptor를 설정하지 못한다는 단점이 있다.\n",
    "아래에서 위와 같은 문제를 해결해보자\n",
    "\n",
    "descriptor를 사용할 때 각 descriptor에게 어떤 변수명이 사용됐는지 알려줄 수 있다.<br>\n",
    "_Person_ class는 2개의 name, age라는 descriptor instance를 가지고 있다.<br>\n",
    "\n",
    "_Person_ class가 정의될 때, \\_\\_set_name__이라는 함수를 callback한다.<br>\n",
    "name, age에게 이들의 public, private 변수명을 알려주기 위해서이다."
   ],
   "metadata": {
    "collapsed": false,
    "pycharm": {
     "name": "#%% md\n"
    }
   }
  },
  {
   "cell_type": "code",
   "execution_count": 19,
   "outputs": [],
   "source": [
    "import logging\n",
    "\n",
    "logging.basicConfig(level=logging.INFO)\n",
    "\n",
    "class LoggedAccess:\n",
    "    def __set_name__(self, owner, name):\n",
    "        self.public_name = name\n",
    "        self.private_name = '_' + name\n",
    "\n",
    "    def __get__(self, instance, owner):\n",
    "        value = getattr(instance, self.private_name)\n",
    "        logging.info(f'Accessing {self.public_name} to {value}')\n",
    "        return value\n",
    "\n",
    "    def __set__(self, instance, value):\n",
    "        logging.info(f'Updating {self.public_name} to {value}')\n",
    "        setattr(instance, self.private_name, value)\n",
    "\n",
    "class Person:\n",
    "    name = LoggedAccess()\n",
    "    age = LoggedAccess()\n",
    "\n",
    "    def __init__(self, name, age):\n",
    "        self.name = name\n",
    "        self.age = age\n",
    "\n",
    "    def birthday(self):\n",
    "        self.age += 1"
   ],
   "metadata": {
    "collapsed": false,
    "pycharm": {
     "name": "#%%\n"
    }
   }
  },
  {
   "cell_type": "markdown",
   "source": [
    "Person classr가 정의될 때, 각 public, private name들을 저장하기 위해 \\_\\_set_name__이 callback 되었다.<br>\n",
    "vars 함수를 통해 정말 그렇게 되었는지 확인해보자.<br>\n",
    "\n",
    "descriptor는 'dot operator'에 의해서만 invoke 된다.<br>\n",
    "따라서 아래의 두 코드에서는 log가 발생되지 않는다."
   ],
   "metadata": {
    "collapsed": false,
    "pycharm": {
     "name": "#%% md\n"
    }
   }
  },
  {
   "cell_type": "code",
   "execution_count": 15,
   "outputs": [
    {
     "data": {
      "text/plain": "{'public_name': 'name', 'private_name': '_name'}"
     },
     "execution_count": 15,
     "metadata": {},
     "output_type": "execute_result"
    }
   ],
   "source": [
    "vars(vars(Person)['name'])"
   ],
   "metadata": {
    "collapsed": false,
    "pycharm": {
     "name": "#%%\n"
    }
   }
  },
  {
   "cell_type": "code",
   "execution_count": 17,
   "outputs": [
    {
     "data": {
      "text/plain": "{'public_name': 'age', 'private_name': '_age'}"
     },
     "execution_count": 17,
     "metadata": {},
     "output_type": "execute_result"
    }
   ],
   "source": [
    "vars(vars(Person)['age'])"
   ],
   "metadata": {
    "collapsed": false,
    "pycharm": {
     "name": "#%%\n"
    }
   }
  },
  {
   "cell_type": "markdown",
   "source": [
    "그러나 아래의 코드에서는 모두 dot operator가 사용되므로 log가 발생했다."
   ],
   "metadata": {
    "collapsed": false,
    "pycharm": {
     "name": "#%% md\n"
    }
   }
  },
  {
   "cell_type": "code",
   "execution_count": null,
   "outputs": [],
   "source": [
    "pete = Person('Pete P', 10)\n",
    "kate = Person('Kate K', 20)"
   ],
   "metadata": {
    "collapsed": false,
    "pycharm": {
     "name": "#%%\n"
    }
   }
  },
  {
   "cell_type": "markdown",
   "source": [
    "descriptor instance에는 private name만 contain하게 된다."
   ],
   "metadata": {
    "collapsed": false,
    "pycharm": {
     "name": "#%% md\n"
    }
   }
  },
  {
   "cell_type": "code",
   "execution_count": 22,
   "outputs": [
    {
     "name": "stdout",
     "output_type": "stream",
     "text": [
      "{'_name': 'Pete P', '_age': 10}\n",
      "{'_name': 'Kate K', '_age': 20}\n"
     ]
    }
   ],
   "source": [
    "print(vars(pete))\n",
    "print(vars(kate))"
   ],
   "metadata": {
    "collapsed": false,
    "pycharm": {
     "name": "#%%\n"
    }
   }
  },
  {
   "cell_type": "markdown",
   "source": [
    "## Closing thought\n",
    "- descriptor는 \\_\\_get__, \\_\\_set__, \\_\\_delete__ method를 정의하는 class를 지칭하며,<br>\n",
    "optional 하게 \\_\\_set_name__ 도 포함할 수 있다.\n",
    "- descriptor는 dot operator에 의해서만 invoke 된다.\n",
    "- 오직 class variable로 선언될 때만 사용 가능하다. instance로 선언되면 아무런 효과도 없다.\n",
    "- descriptor의 motivation은 attrubute를 lookup할 때 발생하는 상황에 대하여 통제할 수 있도록<br>\n",
    " class variable에 objects를 저장할 수 있는 hook을 제공하는 것이다.<br>\n",
    "- classmethod, staticmethod, property등등이 descriptor로서 사용된다."
   ],
   "metadata": {
    "collapsed": false,
    "pycharm": {
     "name": "#%% md\n"
    }
   }
  }
 ],
 "metadata": {
  "kernelspec": {
   "name": "python3",
   "language": "python",
   "display_name": "Python 3"
  },
  "language_info": {
   "codemirror_mode": {
    "name": "ipython",
    "version": 2
   },
   "file_extension": ".py",
   "mimetype": "text/x-python",
   "name": "python",
   "nbconvert_exporter": "python",
   "pygments_lexer": "ipython2",
   "version": "2.7.6"
  }
 },
 "nbformat": 4,
 "nbformat_minor": 0
}