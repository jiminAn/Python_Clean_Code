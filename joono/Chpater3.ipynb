{
 "metadata": {
  "language_info": {
   "codemirror_mode": {
    "name": "ipython",
    "version": 3
   },
   "file_extension": ".py",
   "mimetype": "text/x-python",
   "name": "python",
   "nbconvert_exporter": "python",
   "pygments_lexer": "ipython3",
   "version": "3.8.5-final"
  },
  "orig_nbformat": 2,
  "kernelspec": {
   "name": "python3",
   "display_name": "Python 3.8.5 64-bit",
   "metadata": {
    "interpreter": {
     "hash": "31f2aee4e71d21fbe5cf8b01ff0e069b9275f58929596ceb00d14d90e3e16cd6"
    }
   }
  }
 },
 "nbformat": 4,
 "nbformat_minor": 2,
 "cells": [
  {
   "source": [
    " # Chapter 3\n",
    " ## 좋은 코드의 일반적인 특징\n",
    "\n",
    " - 궁극적인 코드 작성 시 목표는\n",
    "\n",
    " 1. 견고\n",
    " 2. 결함을 최소,\n",
    " 3. 자명하도록 하는 것이다.\n",
    "\n",
    "### Design by contract (DbC)\n",
    "\n",
    "----------------------------------------------------------------------------------------------\n",
    "\n",
    "- 동작하기 위해 기대하는 것과 호출자가 반환 받기를 기대하는 것은 디자인의 하나가 되어야 한다.<br>\n",
    "- 양측이 동의하는 계약을 먼저 한 다음, 계약을 어겼을 시 exception을 발생시키라는 것이다.,\n",
    "\n",
    "-**pre-condition**  : 함수나 메서드가 제대로 동작하기 위해 보장해야하는 모든 것 -> 적절한 데이터 전달<br>\n",
    "1. tolerant method  : 함수를 호출하기 전에 검사\n",
    "2. demanding method : 함수가 자체적으로 검사\n",
    "\n",
    "-**post-condition** : 메서드, 함수가 반환된 후의 상태를 강제하는 계약의 일부\n",
    "\n",
    "### Defensive programming\n",
    "\n",
    "--------------------------------------------------------------------------------\n",
    "\n",
    "1. error handling : predictable error -> raise Exception<br>\n",
    "\n",
    "    1.1. substitution<br>\n",
    "    1.2. error logging<br>\n",
    "    1.3. raise Exception<br>\n",
    "\n",
    "        Exception이 너무 많다는 것은 여러 개의 함수로 나눠야 한다는 신호일 수 있다.\n",
    "        1.3.1. Exception은 캡슐화된 로직과 일치해야한다.\n",
    "        1.3.2. Traceback 노출 금지\n",
    "            - 함수의 너무 구체적인 부분 까지 사용자에게 보여선 안된다.\n",
    "        1.3.3. go-to의 수단으로 사용해서는 안된다. (즉 로직의 흐름 제어의 의도로 사용하면 안된다는 것이다.)\n",
    "\n",
    "2. assertion      : 발생해서는 안되는 에러 -> 프로그램 종료\n",
    "\n",
    "\n",
    "### 관심사의 분리\n",
    "\n",
    "----------------------------------------------\n",
    "\n",
    "- ***응집력 (cohesion)***\n",
    "- ***결합력 (coupling)***\n",
    "\n",
    "- \"high cohesion, low coupling\"\n",
    "- 함수는 작고 한 가지 일만 해야하며, 다른 함수와 dependency가 있으면 안된다.\n",
    "\n",
    "### 개발 지침 약어\n",
    "\n",
    "-------------------------------------------------------------\n",
    "\n",
    "***DRY / OYOO***<br>\n",
    "\n",
    "-> Do not Repear Yourself<br>\n",
    "-> Once and Only Once<br>\n",
    "\n",
    "***YAGNI***<br>\n",
    "\n",
    "-> You Ain't Gonna Need It<br>\n",
    "\n",
    "***KIS***<br>\n",
    "\n",
    "-> Keep It Simple<br>\n",
    "\n",
    "***EAFP / LBYL***<br>\n",
    "\n",
    "-> Easier to Ask Forgivness than Permission<br>\n",
    "-> Look Before You Leap<br>\n",
    "\n",
    "- python은 EAFP를 따른다. 일단 돌려보고 보자\n",
    "\n",
    "### 가변 인자\n",
    "\n",
    "----------------------------------------------------------\n",
    "\n",
    "- packing\n",
    "\n",
    "\n",
    "\n",
    "\n"
   ],
   "cell_type": "markdown",
   "metadata": {}
  },
  {
   "cell_type": "code",
   "execution_count": 2,
   "metadata": {},
   "outputs": [
    {
     "output_type": "stream",
     "name": "stdout",
     "text": [
      "1\n2\n3\n"
     ]
    }
   ],
   "source": [
    "def f(first, second, third):\n",
    "    print(first)\n",
    "    print(second)\n",
    "    print(third)\n",
    "\n",
    "l = [1, 2, 3]\n",
    "\n",
    "f(*l)"
   ]
  },
  {
   "source": [
    "### 함수 인자의 갯수\n",
    "\n",
    "------------------------------------------------\n",
    "\n",
    "1. 전달하는 인자가 너무 많으면 그 인자를 포함하는 객체를 전달해\n",
    "2. 너무 많은 것들을 함수에서 처리하고 있다면 나눠\n",
    "3. 어떤 함수의 인자를 모두 어떤 함수가 갖는다면 이는 추상화 단계에서 잘못한거야\n",
    "\n",
    "### 코드 구조\n",
    "\n",
    "---------------------------------------\n",
    "\n",
    "- 여러 정의가 있는 파일을 만드는 것은 권장하지 않는다.\n",
    "- \\_\\_init__.py 가 있는 디렉토리를 만든다. 이렇게 하면 파이썬 패키지가 만들어진다."
   ],
   "cell_type": "markdown",
   "metadata": {}
  }
 ]
}