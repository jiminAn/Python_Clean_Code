{
 "cells": [
  {
   "cell_type": "markdown",
   "metadata": {},
   "source": [
    "# Chapter 2\n",
    "\n",
    "-------------------------------------------------------------------------------------\n",
    "\n",
    "## Cunstom sequence 생성\n",
    "\n",
    "1. range로 indexing하는 결과는 해당 class와 같은 type의 instance여야 한다.\n",
    "2. slice에 의해 제공된 범위는 python이 하는 것처럼 마지막 요소는 제외해야한다.\n",
    "\n",
    "첫 번째 규칙을 들어보자.\n",
    "예를 들어 아래와 같은 경우가 있다."
   ]
  },
  {
   "cell_type": "code",
   "execution_count": 2,
   "metadata": {},
   "outputs": [
    {
     "data": {
      "text/plain": [
       "range(25, 50)"
      ]
     },
     "execution_count": 2,
     "metadata": {},
     "output_type": "execute_result"
    }
   ],
   "source": [
    "range(100)[25:50]"
   ]
  },
  {
   "cell_type": "markdown",
   "metadata": {},
   "source": [
    "- *range를 slicing하면 range를 return한다.!!*\n",
    "\n",
    "두 번째 규칙은 일관성에 관한 이야기이다.<br>\n",
    "(마지막 요소는 포함하지 않는다)<br>\n",
    "\n",
    "## Context manager\n",
    "\n",
    "---------------------------------------------------------------------------------------------------------\n",
    "\n",
    "- 이 기능은 주요한 동작 전후에 어떤 작업을 실행할 때 유용하다.\n",
    "\n",
    "예를 들어 file 을 여는 코드가 있다. 아래 두 코드는 정확히 같은 동작을 한다."
   ]
  },
  {
   "cell_type": "code",
   "execution_count": 4,
   "metadata": {},
   "outputs": [],
   "source": [
    "! echo hello foo > foo.txt\n",
    "\n",
    "fd = open('foo.txt')\n",
    "try:\n",
    "    pass\n",
    "finally:\n",
    "    fd.close()"
   ]
  },
  {
   "cell_type": "code",
   "execution_count": 5,
   "metadata": {},
   "outputs": [],
   "source": [
    "with open('foo.txt') as fd:\n",
    "    pass"
   ]
  },
  {
   "cell_type": "markdown",
   "metadata": {},
   "source": [
    "아래의 코드가 훨씬 *Pythonic* 하며 훨씬 이해하기 쉬운 코드이다.\n",
    "\n",
    "## Context manager의 구현\n",
    "\n",
    "--------------------------------------------------------------------------------------------------------\n",
    "\n",
    "### enter, exit\n",
    "\n",
    "- 아래의 두 magit method를 구현함으로써 context manager를 구현할 수 있다.   \n",
    "   \n",
    "    \\_\\_enter__  : with문은 해당 magic method를 호출하고 return value를 as 뒤에 붙는 변수에 할당한다. <br>\n",
    "    \\_\\_exit__   : 모든 context들이 실행되고 나고 해당 블록이 종료될 때 이 magit method가 실행된다.\n",
    "\n",
    "    \\_\\_exit__ 은 exception이 발생한 경우 exception을 parameter로 받기 때문에 예외를 처리하기에도 좋다.\n",
    "  \n",
    "### contextlib module 이용\n",
    "\n",
    "아래와 같이 구현 가능하다."
   ]
  },
  {
   "cell_type": "code",
   "execution_count": null,
   "metadata": {},
   "outputs": [],
   "source": [
    "! pip3 install contextlib"
   ]
  },
  {
   "cell_type": "code",
   "execution_count": null,
   "metadata": {},
   "outputs": [],
   "source": [
    "import contextlib\n",
    "\n",
    "# @contextlib.contextmanager\n",
    "# def db_handler():\n",
    "    # stop_database()\n",
    "    # yield\n",
    "    # start_database()"
   ]
  },
  {
   "cell_type": "markdown",
   "metadata": {},
   "source": [
    "위와 같이 구현이 가능하다. <br>\n",
    "\n",
    "여기서 중요한 점은 decorator로 context manager를 정해주려면 <br>\n",
    "- **해당 함수가 generator 여야한다.**\n",
    "\n",
    "# Properties, attributes, other types of object method\n",
    "\n",
    "------------------------------------------------------------------------------\n",
    "\n",
    "## underscore in python\n",
    "\n",
    "- python에서의 모든 property와 function들은 public이다.\n",
    "- underscore(_)로 시작하는 attribute은 해당 객체에 대해 private을 의미하며<br>\n",
    "  외부에서 호출하지 않아줬으면 하는 권고이다."
   ]
  },
  {
   "cell_type": "code",
   "execution_count": 3,
   "outputs": [
    {
     "name": "stdout",
     "output_type": "stream",
     "text": [
      "postgrespl://localhost\n",
      "60\n",
      "{'source': 'postgrespl://localhost', '_timeout': 60}\n"
     ]
    }
   ],
   "source": [
    "class Connector:\n",
    "    def __init__(self, source):\n",
    "        self.source = source\n",
    "        self._timeout = 60\n",
    "\n",
    "conn = Connector(\"postgrespl://localhost\")\n",
    "print(conn.source)\n",
    "print(conn._timeout)\n",
    "print(conn.__dict__)"
   ],
   "metadata": {
    "collapsed": false,
    "pycharm": {
     "name": "#%%\n"
    }
   }
  },
  {
   "cell_type": "markdown",
   "source": [
    "위에서 보듯이 둘 다 모두 접근할 수 있다.\n",
    "\n",
    "하지만 아래와 같이 __timeout으로 다시 정의해보자"
   ],
   "metadata": {
    "collapsed": false,
    "pycharm": {
     "name": "#%% md\n"
    }
   }
  },
  {
   "cell_type": "code",
   "execution_count": 5,
   "outputs": [
    {
     "ename": "AttributeError",
     "evalue": "'Connector2' object has no attribute '__timeout'",
     "output_type": "error",
     "traceback": [
      "\u001B[1;31m---------------------------------------------------------------------------\u001B[0m",
      "\u001B[1;31mAttributeError\u001B[0m                            Traceback (most recent call last)",
      "\u001B[1;32m<ipython-input-5-1f7c3fc32fd0>\u001B[0m in \u001B[0;36m<module>\u001B[1;34m\u001B[0m\n\u001B[0;32m      5\u001B[0m \u001B[1;33m\u001B[0m\u001B[0m\n\u001B[0;32m      6\u001B[0m \u001B[0mconn\u001B[0m \u001B[1;33m=\u001B[0m \u001B[0mConnector2\u001B[0m\u001B[1;33m(\u001B[0m\u001B[1;34m\"postgrespl://localhost\"\u001B[0m\u001B[1;33m)\u001B[0m\u001B[1;33m\u001B[0m\u001B[1;33m\u001B[0m\u001B[0m\n\u001B[1;32m----> 7\u001B[1;33m \u001B[0mconn\u001B[0m\u001B[1;33m.\u001B[0m\u001B[0m__timeout\u001B[0m\u001B[1;33m\u001B[0m\u001B[1;33m\u001B[0m\u001B[0m\n\u001B[0m",
      "\u001B[1;31mAttributeError\u001B[0m: 'Connector2' object has no attribute '__timeout'"
     ]
    }
   ],
   "source": [
    "class Connector2:\n",
    "    def __init__(self, source):\n",
    "        self.source = source\n",
    "        self.__timeout = 60\n",
    "\n",
    "conn = Connector2(\"postgrespl://localhost\")\n",
    "conn.__timeout"
   ],
   "metadata": {
    "collapsed": false,
    "pycharm": {
     "name": "#%%\n"
    }
   }
  },
  {
   "cell_type": "markdown",
   "source": [
    "위와 같은 결과를 얻는다 분명 __time attribute를 정의했는데 찾을 수 없다고한다.<br>\n",
    "하지만 아래와 __dict__를 호출해 attribute를 다시 호출해보자"
   ],
   "metadata": {
    "collapsed": false,
    "pycharm": {
     "name": "#%% md\n"
    }
   }
  },
  {
   "cell_type": "code",
   "execution_count": 7,
   "outputs": [
    {
     "data": {
      "text/plain": "{'source': 'postgrespl://localhost', '_Connector2__timeout': 60}"
     },
     "execution_count": 7,
     "metadata": {},
     "output_type": "execute_result"
    }
   ],
   "source": [
    "conn.__dict__"
   ],
   "metadata": {
    "collapsed": false,
    "pycharm": {
     "name": "#%%\n"
    }
   }
  },
  {
   "cell_type": "markdown",
   "source": [
    "- \\_\\_timeout이 아니다 \\_Connector2__timeout으로 이름이 바뀌었다..!<br>\n",
    "  python에서는 밑줄이 두 개인 attribute에 대하여 처음의 이름과 다른 이름을 부여한다.\n",
    "\n",
    "- 이를 'name-mangling' 이라고 한다.\n",
    "- 여러번 확장되는 클래스의 method 이름 충돌 없이 overriding 하기 위함이다.<br>\n",
    "\n",
    "## Property\n",
    "\n",
    "- java, C++에서는 getter, setter를 따로 정의 하지만 python 에서는 property를 사용한다.<br>\n",
    "\n",
    "아래의 예제를 살펴보자."
   ],
   "metadata": {
    "collapsed": false,
    "pycharm": {
     "name": "#%% md\n"
    }
   }
  },
  {
   "cell_type": "code",
   "execution_count": 23,
   "outputs": [],
   "source": [
    "import re\n",
    "\n",
    "EMAIL_FORMAT = re.compile(r\"[^@]+@[^@]+[^@]+\")\n",
    "\n",
    "def is_valid_email(potentially_valid_email: str):\n",
    "    return re.match(EMAIL_FORMAT, potentially_valid_email) is not None\n",
    "\n",
    "class User:\n",
    "    def __init__(self, username):\n",
    "        self.username = username\n",
    "        self._email = None\n",
    "\n",
    "    @property\n",
    "    def email(self):\n",
    "        return self._email\n",
    "\n",
    "    @email.setter\n",
    "    def email(self, new_email):\n",
    "        if not is_valid_email(new_email):\n",
    "            raise ValueError(f'Invalid email : {new_email}')\n",
    "        self._email = new_email"
   ],
   "metadata": {
    "collapsed": false,
    "pycharm": {
     "name": "#%%\n"
    }
   }
  },
  {
   "cell_type": "markdown",
   "source": [
    "- Q : 왜 class 밖에서 property를 정의하지?\n",
    "- A : 책 오류임 class 안에 넣어야 동작함\n",
    "\n",
    "- 하나의 method에서 한 가지의 일을 해야해\n",
    "\n",
    "# Iterable Object\n",
    "\n",
    "--------------------\n",
    "\n",
    "- Iterable : \\_\\_iter__ magic method를 구현한 obj\n",
    "- Iterator : \\_\\_next__ magic method를 구현한 obj\n",
    "\n",
    "- python의\n",
    " 반복은 iterable protocol에 의해 작동한다. 이는 아래와 같은 검사를 한다.<br>\n",
    "\n",
    "1. \\_\\_next__, \\_\\_iter__ 중 하나를 갖고 있는지?\n",
    "2. obj이 sequence이고, \\_\\_len__, __getitem__을 모두 가졌는지?\n",
    "\n",
    "위와 같이 iterable한 obj을 만드는 방법에는 두 가지가 있다.\n",
    "\n",
    "## Create iterable\n",
    "\n",
    "- obj을 반복할 때 iter()를 호출한다. 아래와 같이 코드를 작성할 수 있다."
   ],
   "metadata": {
    "collapsed": false,
    "pycharm": {
     "name": "#%% md\n"
    }
   }
  },
  {
   "cell_type": "code",
   "execution_count": 59,
   "outputs": [
    {
     "name": "stdout",
     "output_type": "stream",
     "text": [
      "2019-01-01\n",
      "2019-01-02\n",
      "2019-01-03\n",
      "2019-01-04\n",
      "2019-01-05\n",
      "2019-01-06\n",
      "2019-01-07\n",
      "2019-01-08\n",
      "2019-01-09\n",
      "2019-01-10\n",
      "2019-01-11\n",
      "2019-01-12\n",
      "2019-01-13\n",
      "2019-01-14\n",
      "2019-01-15\n",
      "2019-01-16\n",
      "2019-01-17\n",
      "2019-01-18\n",
      "2019-01-19\n",
      "2019-01-20\n",
      "2019-01-21\n",
      "2019-01-22\n",
      "2019-01-23\n",
      "2019-01-24\n",
      "2019-01-25\n",
      "2019-01-26\n",
      "2019-01-27\n",
      "2019-01-28\n",
      "2019-01-29\n",
      "2019-01-30\n",
      "2019-01-31\n",
      "2019-02-01\n",
      "2019-02-02\n",
      "2019-02-03\n",
      "2019-02-04\n",
      "2019-02-05\n",
      "2019-02-06\n",
      "2019-02-07\n",
      "2019-02-08\n",
      "2019-02-09\n",
      "2019-02-10\n",
      "2019-02-11\n",
      "2019-02-12\n",
      "2019-02-13\n",
      "2019-02-14\n",
      "2019-02-15\n",
      "2019-02-16\n",
      "2019-02-17\n",
      "2019-02-18\n",
      "2019-02-19\n",
      "2019-02-20\n",
      "2019-02-21\n",
      "2019-02-22\n",
      "2019-02-23\n",
      "2019-02-24\n",
      "2019-02-25\n",
      "2019-02-26\n",
      "2019-02-27\n",
      "2019-02-28\n"
     ]
    }
   ],
   "source": [
    "from datetime import timedelta\n",
    "from datetime import date\n",
    "\n",
    "class DataRangeIterable:\n",
    "    \"\"\"\n",
    "        자체 iterator method (__next__()) 를 갖는 Iterable\n",
    "    \"\"\"\n",
    "\n",
    "    def __init__(self, start_date, end_date):\n",
    "        self.start_date = start_date\n",
    "        self.end_date = end_date\n",
    "        self._present_day = start_date\n",
    "\n",
    "    def __iter__(self):\n",
    "        return self\n",
    "\n",
    "    def __next__(self):\n",
    "        if self._present_day >= self.end_date:\n",
    "            raise StopIteration\n",
    "        today = self._present_day\n",
    "        self._present_day += timedelta(days=1)\n",
    "        return today\n",
    "\n",
    "for day in DataRangeIterable(date(2019, 1, 1), date(2019, 3, 1)):\n",
    "    print(day)"
   ],
   "metadata": {
    "collapsed": false,
    "pycharm": {
     "name": "#%%\n"
    }
   }
  },
  {
   "cell_type": "markdown",
   "source": [
    "- python에서 for문을 돌린다는 것은 next()함수를 StopIteration이 발생할 때까지<br>\n",
    "  호출한다는 것을 알 수 있다.\n",
    "\n",
    "- for문의 작동 순서\n",
    "\n",
    "###for day in DateRangeIterable: 을 실행했다고 하자\n",
    "1. check DateRangeIterable.\\_\\_iter\\_\\_()\n",
    "2. 그러면, iter(__iter__(self))\n",
    "3. __iter__(self) -> *self* 이므로, next(*self*)\n",
    "4. while not StopIteration\n",
    "\n",
    "그러나 위와 같이 iterable을 작성한다면 _present_day가 end_date가 될 때<br>\n",
    "더 이상 반복하지 못한다는 단점이 있다.\n",
    "\n",
    "### Contatiner iterabel\n",
    "\n",
    "- \\_\\_iter__ 에서 generate를 사용하는 방법이 있다.\n",
    "\n"
   ],
   "metadata": {
    "collapsed": false,
    "pycharm": {
     "name": "#%% md\n"
    }
   }
  }
 ],
 "metadata": {
  "kernelspec": {
   "display_name": "Python 3",
   "language": "python",
   "name": "python3"
  },
  "language_info": {
   "codemirror_mode": {
    "name": "ipython",
    "version": 3
   },
   "file_extension": ".py",
   "mimetype": "text/x-python",
   "name": "python",
   "nbconvert_exporter": "python",
   "pygments_lexer": "ipython3",
   "version": "3.6.11"
  }
 },
 "nbformat": 4,
 "nbformat_minor": 4
}