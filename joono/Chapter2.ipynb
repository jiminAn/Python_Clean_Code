{
 "cells": [
  {
   "cell_type": "markdown",
   "metadata": {},
   "source": [
    "# Chapter 2\n",
    "\n",
    "-------------------------------------------------------------------------------------\n",
    "\n",
    "## Cunstom sequence 생성\n",
    "\n",
    "1. range로 indexing하는 결과는 해당 class와 같은 type의 instance여야 한다.\n",
    "2. slice에 의해 제공된 범위는 python이 하는 것처럼 마지막 요소는 제외해야한다.\n",
    "\n",
    "첫 번째 규칙을 들어보자.\n",
    "예를 들어 아래와 같은 경우가 있다."
   ]
  },
  {
   "cell_type": "code",
   "execution_count": 2,
   "metadata": {},
   "outputs": [
    {
     "data": {
      "text/plain": [
       "range(25, 50)"
      ]
     },
     "execution_count": 2,
     "metadata": {},
     "output_type": "execute_result"
    }
   ],
   "source": [
    "range(100)[25:50]"
   ]
  },
  {
   "cell_type": "markdown",
   "metadata": {},
   "source": [
    "- *range를 slicing하면 range를 return한다.!!*\n",
    "\n",
    "두 번째 규칙은 일관성에 관한 이야기이다.<br>\n",
    "(마지막 요소는 포함하지 않는다)<br>\n",
    "\n",
    "## Context manager\n",
    "\n",
    "---------------------------------------------------------------------------------------------------------\n",
    "\n",
    "- 이 기능은 주요한 동작 전후에 어떤 작업을 실행할 때 유용하다.\n",
    "\n",
    "예를 들어 file 을 여는 코드가 있다. 아래 두 코드는 정확히 같은 동작을 한다."
   ]
  },
  {
   "cell_type": "code",
   "execution_count": 4,
   "metadata": {},
   "outputs": [],
   "source": [
    "! echo hello foo > foo.txt\n",
    "\n",
    "fd = open('foo.txt')\n",
    "try:\n",
    "    pass\n",
    "finally:\n",
    "    fd.close()"
   ]
  },
  {
   "cell_type": "code",
   "execution_count": 5,
   "metadata": {},
   "outputs": [],
   "source": [
    "with open('foo.txt') as fd:\n",
    "    pass"
   ]
  },
  {
   "cell_type": "markdown",
   "metadata": {},
   "source": [
    "아래의 코드가 훨씬 *Pythonic* 하며 훨씬 이해하기 쉬운 코드이다.\n",
    "\n",
    "## Context manager의 구현\n",
    "\n",
    "--------------------------------------------------------------------------------------------------------\n",
    "\n",
    "### enter, exit\n",
    "\n",
    "- 아래의 두 magit method를 구현함으로써 context manager를 구현할 수 있다.   \n",
    "   \n",
    "    __enter__  : with문은 해당 magic method를 호출하고 return value를 as 뒤에 붙는 변수에 할당한다. <br>\n",
    "    __exit__   : 모든 context들이 실행되고 나고 해당 블록이 종료될 때 이 magit method가 실행된다.   \n",
    "\n",
    "    __exit__ 은 exception이 발생한 경우 exception을 parameter로 받기 때문에 예외를 처리하기에도 좋다.\n",
    "  \n",
    "### contextlib module 이용\n",
    "\n",
    "아래와 같이 구현 가능하다."
   ]
  },
  {
   "cell_type": "code",
   "execution_count": null,
   "metadata": {},
   "outputs": [],
   "source": [
    "! pip3 install contextlib"
   ]
  },
  {
   "cell_type": "code",
   "execution_count": null,
   "metadata": {},
   "outputs": [],
   "source": [
    "import contextlib\n",
    "\n",
    "@contextlib.contextmanager\n",
    "def db_handler():\n",
    "    stop_database()\n",
    "    yield\n",
    "    start_database()"
   ]
  },
  {
   "cell_type": "markdown",
   "metadata": {},
   "source": [
    "위와 같이 구현이 가능하다. <br>\n",
    "\n",
    "여기서 중요한 점은 decorator로 context manager를 정해주려면 <br>\n",
    "- **해당 함수가 generator 여야한다.**"
   ]
  }
 ],
 "metadata": {
  "kernelspec": {
   "display_name": "Python 3",
   "language": "python",
   "name": "python3"
  },
  "language_info": {
   "codemirror_mode": {
    "name": "ipython",
    "version": 3
   },
   "file_extension": ".py",
   "mimetype": "text/x-python",
   "name": "python",
   "nbconvert_exporter": "python",
   "pygments_lexer": "ipython3",
   "version": "3.6.11"
  }
 },
 "nbformat": 4,
 "nbformat_minor": 4
}
