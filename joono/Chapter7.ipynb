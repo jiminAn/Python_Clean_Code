{
 "cells": [
  {
   "cell_type": "markdown",
   "metadata": {
    "collapsed": true,
    "pycharm": {
     "name": "#%% md\n"
    }
   },
   "source": [
    "# Generator\n",
    "\n",
    "### reference<br>\n",
    "-------------------------------------------------\n",
    "https://docs.python.org/3/library/itertools.html#module-itertools\n",
    "\n",
    "### generator를 배우기 앞서\n",
    "--------------------------------------------------\n",
    "1. procedural<br>\n",
    "2. object-oriented<br>\n",
    "3. functional<br>\n",
    "위 세 가지의 프로그래밍 방법이 있다.\n",
    "\n",
    "functional programming은 문제를 여러가지의 함수로 분해한다.<br>\n",
    "그리고 위 함수들은 어떠한 output에 영향을 주는 internal state없이 input이 주어지면<br>\n",
    "같은 output을 생성하도록 구현된다.<br>\n",
    "\n",
    "python은 위 세 가지의 방법 모두를 지원하며 꼭 위 세가지 중 하나를 선택할 필요는 없다.<br>\n",
    "functional programming을 위해서는 I/O도, assignment도 하지 않아야하는 극단적인<br>\n",
    "선택을 해야하는데 파이썬은 그런 방법을 선택하지 않고<br>\n",
    "__functional-approaching-interface__를 제공한다.<br>\n",
    "\n",
    "Object-oriented programming이 작은 capule 안에서 method를 호출하며<br>\n",
    "internal state를 바꿔가 프로그램이 진행된다면\n",
    "\n",
    "Functional programming은 internal-state의 변화를 최소화하며<br>\n",
    "오직 함수 사이의 data flow 만으로 문제를 해결하는 방법이다.\n",
    "\n",
    "Python에서는 위 두가지 방법 모두를 사용한다."
   ]
  },
  {
   "cell_type": "markdown",
   "source": [
    "iterator<br>\n",
    "---------------------------------------------------------\n",
    "\n",
    "- 먼저 functional programming의 foundation인 iterator를 살펴보자\n",
    "\n",
    "1. iterator는 stream of data를 나타내는 object이다.<br>\n",
    "2. iterator는 반드시 \\_\\_next__ magic method가 있어야하며 arguments는 없고<br>\n",
    "   항상 다음 elements를 return한다.<br>\n",
    "   만약 다음 elem이 없으면 StopIteration을 raise한다.<br>\n",
    "3. 꼭 finite하게 구현할 필요는 없으며 infinite하게 구현하는 것이 훨씬 낫다.\n",
    "\n",
    "- built-int function인 \\_\\_iter__는 arbitrary object을 args로 받는다.<br>\n",
    "  만약 object이 iteration을 지원하지 않는다면 _TypeError_를 raise한다.\n",
    "- iterator가 존재하는 object을 __iterable__이라고 한다."
   ],
   "metadata": {
    "collapsed": false,
    "pycharm": {
     "name": "#%% md\n"
    }
   }
  },
  {
   "cell_type": "code",
   "execution_count": 2,
   "outputs": [
    {
     "name": "stdout",
     "output_type": "stream",
     "text": [
      "1\n",
      "2\n",
      "3\n"
     ]
    },
    {
     "ename": "StopIteration",
     "evalue": "",
     "output_type": "error",
     "traceback": [
      "\u001B[0;31m---------------------------------------------------------------------------\u001B[0m",
      "\u001B[0;31mStopIteration\u001B[0m                             Traceback (most recent call last)",
      "\u001B[0;32m<ipython-input-2-44e74fc33461>\u001B[0m in \u001B[0;36m<module>\u001B[0;34m\u001B[0m\n\u001B[1;32m      4\u001B[0m \u001B[0mprint\u001B[0m\u001B[0;34m(\u001B[0m\u001B[0mnext\u001B[0m\u001B[0;34m(\u001B[0m\u001B[0mit\u001B[0m\u001B[0;34m)\u001B[0m\u001B[0;34m)\u001B[0m\u001B[0;34m\u001B[0m\u001B[0;34m\u001B[0m\u001B[0m\n\u001B[1;32m      5\u001B[0m \u001B[0mprint\u001B[0m\u001B[0;34m(\u001B[0m\u001B[0mnext\u001B[0m\u001B[0;34m(\u001B[0m\u001B[0mit\u001B[0m\u001B[0;34m)\u001B[0m\u001B[0;34m)\u001B[0m\u001B[0;34m\u001B[0m\u001B[0;34m\u001B[0m\u001B[0m\n\u001B[0;32m----> 6\u001B[0;31m \u001B[0mprint\u001B[0m\u001B[0;34m(\u001B[0m\u001B[0mnext\u001B[0m\u001B[0;34m(\u001B[0m\u001B[0mit\u001B[0m\u001B[0;34m)\u001B[0m\u001B[0;34m)\u001B[0m\u001B[0;34m\u001B[0m\u001B[0;34m\u001B[0m\u001B[0m\n\u001B[0m\u001B[1;32m      7\u001B[0m \u001B[0;34m\u001B[0m\u001B[0m\n\u001B[1;32m      8\u001B[0m \u001B[0;34m\u001B[0m\u001B[0m\n",
      "\u001B[0;31mStopIteration\u001B[0m: "
     ]
    }
   ],
   "source": [
    "L = [1, 2, 3]\n",
    "it = iter(L)\n",
    "print(next(it))\n",
    "print(next(it))\n",
    "print(next(it))\n",
    "print(next(it))"
   ],
   "metadata": {
    "collapsed": false,
    "pycharm": {
     "name": "#%%\n"
    }
   }
  },
  {
   "cell_type": "markdown",
   "source": [
    "python에서는 여러 경우의 iterator를 요구하는데<br>\n",
    "대표적인 예가 for문이다.\n",
    "```python\n",
    "    for X in Y\n",
    "```\n",
    "에서 Y는 iterator를 꼭 가져야한다.<br>\n",
    "아래 두 코드는 동일하다.<br>\n",
    "```python\n",
    "    for i in iter(obj):\n",
    "        print(i)\n",
    "\n",
    "    for i in obj:\n",
    "        print(i)\n",
    "```\n",
    "\n",
    "max(), min() built-in function을 사용할 수 있으며\n",
    "_in_, _not in_ 도 iterator가 정의되어야한다.\n",
    "\n",
    "- python에서 지원하는 대부분의 sequential은 iterator를 지원한다.\n",
    "- list, tuple, dictionary, string도 내부적으로 iteration을 생성한다.\n",
    "- 특별히 dictionary 에서는 _keys()_, _values()_ 라는 method로<br>\n",
    "  다른 iter를 생성할 수 있다."
   ],
   "metadata": {
    "collapsed": false,
    "pycharm": {
     "name": "#%% md\n"
    }
   }
  },
  {
   "cell_type": "markdown",
   "source": [
    "- iter가 output을 생성하는 방법에는 보통 두 가지가 있다.\n",
    "1. 모든 elements에 대하여 각각 operate<br>\n",
    "2. 특정 조건을 만족하는 subset에 대하여 operate<br>\n",
    "\n",
    "- 짧게 \"listcomp\", \"genexps\"이라고 하는\n",
    "list comprehension, generator expressions 는 functional programming language인<br>\n",
    "Haskell에서 빌려온 표현이다."
   ],
   "metadata": {
    "collapsed": false,
    "pycharm": {
     "name": "#%% md\n"
    }
   }
  },
  {
   "cell_type": "code",
   "execution_count": 5,
   "outputs": [
    {
     "name": "stdout",
     "output_type": "stream",
     "text": [
      "<generator object <genexpr> at 0x7ff7494b0f20>\n",
      "['line1', 'line2', 'line3', '']\n"
     ]
    }
   ],
   "source": [
    "line_list = ['     line1  \\n', '    line2  \\n', 'line3    \\n', '']\n",
    "\n",
    "# generator expression\n",
    "stripped_iter = (line.strip() for line in line_list)\n",
    "# list comprehension\n",
    "stripped_list = [line.strip() for line in line_list]\n",
    "\n",
    "print(stripped_iter)\n",
    "print(stripped_list)"
   ],
   "metadata": {
    "collapsed": false,
    "pycharm": {
     "name": "#%%\n"
    }
   }
  },
  {
   "cell_type": "markdown",
   "source": [
    "특정 조건에 맞는 element만 뽑고 싶다면 아래와 같이 작성할 수도 있다.<br>"
   ],
   "metadata": {
    "collapsed": false,
    "pycharm": {
     "name": "#%% md\n"
    }
   }
  },
  {
   "cell_type": "code",
   "execution_count": 6,
   "outputs": [
    {
     "name": "stdout",
     "output_type": "stream",
     "text": [
      "['line1', 'line2', 'line3']\n"
     ]
    }
   ],
   "source": [
    "stripped_condition_list = [\n",
    "    line.strip() for line in line_list if line != ''\n",
    "]\n",
    "print(stripped_condition_list)"
   ],
   "metadata": {
    "collapsed": false,
    "pycharm": {
     "name": "#%%\n"
    }
   }
  },
  {
   "cell_type": "markdown",
   "source": [
    "```python\n",
    "    (expression for exp1 in seq1\n",
    "                if condition1\n",
    "                for exp2 in seq2\n",
    "                if condition2\n",
    "                for expN in seqN\n",
    "                if conditionN )\n",
    "```\n",
    "위 genexps는 아래의 코드 진행 순서와 일치한다.<br>\n",
    "```python\n",
    "    for exp1 in seq1:\n",
    "        if not condition1:\n",
    "            continue\n",
    "        for exp2 in seq2:\n",
    "            if not condition2:\n",
    "                continue\n",
    "            ...\n",
    "            for expN in seqN:\n",
    "                if not conditionN:\n",
    "                    continue\n",
    "```\n",
    "\n",
    "- python이 모호하게 해석하지 않게 만약 generator가 tuple을 생성한다면<br>\n",
    "  () 로 감싸줘야한다.\n",
    "```python\n",
    "    [(x, y) for x in seq1 for y in seq2]\n",
    "```"
   ],
   "metadata": {
    "collapsed": false,
    "pycharm": {
     "name": "#%% md\n"
    }
   }
  },
  {
   "cell_type": "markdown",
   "source": [
    "Generator의 기본 아이디어는 다음과 같다.<br>\n",
    "기존의 C, python이 함수를 호출하는 방식은 각 함수만의 private namespace를 생성하고<br>\n",
    "내부 계산을 수행한 뒤 결과를 return하고 생성한 namespace를 날려버린다.<br>\n",
    "그리고 다음에 다시 함수가 호출되면 새로 private namespace를 생성하고 같은 작업을 반복한다.<br>\n",
    "\n",
    "그러나 만약 함수가 그 private namespace를 날리지 않고 잠시 멈췄다가 다시 실행할 수 있다면..?<br>\n",
    "이것이 generator 함수의 기본 아이디어이다.<br>"
   ],
   "metadata": {
    "collapsed": false,
    "pycharm": {
     "name": "#%% md\n"
    }
   }
  },
  {
   "cell_type": "code",
   "execution_count": 8,
   "outputs": [],
   "source": [
    "def generate_ints(N):\n",
    "    for i in range(N):\n",
    "        yield i"
   ],
   "metadata": {
    "collapsed": false,
    "pycharm": {
     "name": "#%%\n"
    }
   }
  },
  {
   "cell_type": "markdown",
   "source": [
    "- __yeild__ keyword가 있는 모든 함수는 generator 함수이다.\n",
    "\n",
    "보통 아래와 같이 사용한다."
   ],
   "metadata": {
    "collapsed": false,
    "pycharm": {
     "name": "#%% md\n"
    }
   }
  },
  {
   "cell_type": "code",
   "execution_count": 9,
   "outputs": [
    {
     "name": "stdout",
     "output_type": "stream",
     "text": [
      "0\n",
      "1\n",
      "2\n"
     ]
    },
    {
     "ename": "StopIteration",
     "evalue": "",
     "output_type": "error",
     "traceback": [
      "\u001B[0;31m---------------------------------------------------------------------------\u001B[0m",
      "\u001B[0;31mStopIteration\u001B[0m                             Traceback (most recent call last)",
      "\u001B[0;32m<ipython-input-9-75092ab59684>\u001B[0m in \u001B[0;36m<module>\u001B[0;34m\u001B[0m\n\u001B[1;32m      3\u001B[0m \u001B[0mprint\u001B[0m\u001B[0;34m(\u001B[0m\u001B[0mnext\u001B[0m\u001B[0;34m(\u001B[0m\u001B[0mgen\u001B[0m\u001B[0;34m)\u001B[0m\u001B[0;34m)\u001B[0m\u001B[0;34m\u001B[0m\u001B[0;34m\u001B[0m\u001B[0m\n\u001B[1;32m      4\u001B[0m \u001B[0mprint\u001B[0m\u001B[0;34m(\u001B[0m\u001B[0mnext\u001B[0m\u001B[0;34m(\u001B[0m\u001B[0mgen\u001B[0m\u001B[0;34m)\u001B[0m\u001B[0;34m)\u001B[0m\u001B[0;34m\u001B[0m\u001B[0;34m\u001B[0m\u001B[0m\n\u001B[0;32m----> 5\u001B[0;31m \u001B[0mprint\u001B[0m\u001B[0;34m(\u001B[0m\u001B[0mnext\u001B[0m\u001B[0;34m(\u001B[0m\u001B[0mgen\u001B[0m\u001B[0;34m)\u001B[0m\u001B[0;34m)\u001B[0m\u001B[0;34m\u001B[0m\u001B[0;34m\u001B[0m\u001B[0m\n\u001B[0m",
      "\u001B[0;31mStopIteration\u001B[0m: "
     ]
    }
   ],
   "source": [
    "gen = generate_ints(3)\n",
    "print(next(gen))\n",
    "print(next(gen))\n",
    "print(next(gen))\n",
    "print(next(gen))"
   ],
   "metadata": {
    "collapsed": false,
    "pycharm": {
     "name": "#%%\n"
    }
   }
  },
  {
   "cell_type": "markdown",
   "source": [
    "# Passing values into generator\n",
    "\n",
    "value는 send(value) method를 call함으로써 generator안에 전달될 수 있다.<br>\n",
    "send(value)는 generator code를 실행하고 value를 generator 안에서 return한다.\n",
    "\n",
    "아래 예제를 살펴보자"
   ],
   "metadata": {
    "collapsed": false,
    "pycharm": {
     "name": "#%% md\n"
    }
   }
  },
  {
   "cell_type": "code",
   "execution_count": 12,
   "outputs": [
    {
     "name": "stdout",
     "output_type": "stream",
     "text": [
      "0\n",
      "1\n",
      "2\n",
      "6\n",
      "7\n",
      "8\n"
     ]
    }
   ],
   "source": [
    "def counter(N):\n",
    "    i = 0\n",
    "    while i <= N:\n",
    "        val = (yield i)\n",
    "        if val is not None:\n",
    "            i = val\n",
    "        else:\n",
    "            i += 1\n",
    "\n",
    "it = counter(10)\n",
    "print(next(it))\n",
    "print(next(it))\n",
    "print(next(it))\n",
    "it.send(5)\n",
    "print(next(it))\n",
    "print(next(it))\n",
    "print(next(it))"
   ],
   "metadata": {
    "collapsed": false,
    "pycharm": {
     "name": "#%%\n"
    }
   }
  },
  {
   "cell_type": "markdown",
   "source": [
    "위 generator code 안에서 yield는 일반적인 \\_\\_next__ method는\n",
    "None을 return한다."
   ],
   "metadata": {
    "collapsed": false,
    "pycharm": {
     "name": "#%% md\n"
    }
   }
  },
  {
   "cell_type": "markdown",
   "source": [
    "# Chapter7 제네레이터 사용하기\n",
    "-----------------------------------------\n",
    "\n",
    "### 목표\n",
    "1. 프로그램의 성능을 향상시키는 제네레이터 만들기<br>\n",
    "2. 이터레이터가 파이썬에 어떻게 환전히 통합되었는지 확인<br>\n",
    "3. 이터레이션 문제를 이상적으로 해결하는 방법<br>\n",
    "4. 제네레이터가 어떻게 코루틴과 비동기 프로그래밍의 기반이 되는 역할을 하는지 확인<br>\n",
    "5. 코루틴을 지원하기 위한 yield from, await, async, def와 같은 문법의 세부 기능 확인<br>\n",
    "--------------------------------------------\n",
    "\n",
    "아래 코드를 살펴보자"
   ],
   "metadata": {
    "collapsed": false,
    "pycharm": {
     "name": "#%% md\n"
    }
   }
  },
  {
   "cell_type": "code",
   "execution_count": null,
   "outputs": [],
   "source": [
    "class PurchaseStatus:\n",
    "    def __init__(self, purchase):\n",
    "        self.purchase = iter(purchase)\n",
    "        self.min_price: float = None\n",
    "        self.max_price: float = None\n",
    "        self._total_purchase_price: float = 0.\n",
    "        self._total_purchase = 0\n",
    "        self._initialize()\n",
    "\n",
    "    def _initialize(self):\n",
    "        try:\n",
    "            first_value = next(self.purchase)\n",
    "        except StopIteration:\n",
    "            raise ValueError(\"No values provided\")\n",
    "\n",
    "        self.min_price = self.max_price = first_value\n",
    "        self._update_avg(first_value)\n",
    "\n",
    "    def process(self):\n",
    "        for purchase_value in self.purchase:\n",
    "            self._update_min(purchase_value)\n",
    "            self._update_max(purchase_value)\n",
    "            self._update_avg(purchase_value)\n",
    "        return self\n",
    "\n",
    "    def _update_min(self, new_value: float):\n",
    "        if new_value < self.min_price:\n",
    "            self.min_price = new_value\n",
    "\n",
    "    def _update_max(self, new_value: float):\n",
    "        if new_value > self.max_price:\n",
    "            self.max_price = new_value\n",
    "\n",
    "    @property\n",
    "    def avg_price(self):\n",
    "        return self._total_purchase_price / self._total_purchase\n",
    "\n",
    "    def _updaste_avg(self, new_value: float):\n",
    "        self._total_purchase_price += new_value\n",
    "        self._total_purchase += 1\n",
    "\n",
    "    def __str__(self):\n",
    "        return (\n",
    "            f'{self.__class__.__name__}({self.min_price}, ',\n",
    "            f'{self.max_price}, {self.avg_price})'\n",
    "        )\n",
    "\n",
    "    # 위 클래스는 모든 구매 정보를 받아서 필요한 계산을 한다.<br>\n",
    "    # 이제 이 모든 정보를 로드해서 어딘가에 담아서 반환해주는 함수를 만들어보자.<br>\n",
    "def _load_purchases(filename):\n",
    "    purchases = []\n",
    "    with open(filename) as f:\n",
    "        for line in f:\n",
    "            *_, price_raw = line.partition(',')\n",
    "            purchases.append(float(price_raw))\n",
    "\n",
    "    return purchases"
   ],
   "metadata": {
    "collapsed": false,
    "pycharm": {
     "name": "#%%\n"
    }
   }
  },
  {
   "cell_type": "markdown",
   "source": [
    "위 코드는 정상 작동하지만 파일이 상당히 많으면 시간이 너무 오래걸리고<br>\n",
    "메모리에 모두 올리지 못할 만큼 클 수도 있다.<br>\n",
    "\n",
    "앞서 작성한 코드를 살펴보면 한 번에 하나의 데이터만을 사용하는 것을 알 수 있다.<br>\n",
    "이를 이용해 한번에 하나씩의 데이터만을 가져오는 것이다.<br>\n",
    "\n",
    "이때 제네레이터를 사용한다."
   ],
   "metadata": {
    "collapsed": false,
    "pycharm": {
     "name": "#%% md\n"
    }
   }
  },
  {
   "cell_type": "code",
   "execution_count": null,
   "outputs": [],
   "source": [
    "def load_purchases(filename):\n",
    "    with open(filename) as f:\n",
    "        for line in f:\n",
    "            *_, price_raw = line.partition(',')\n",
    "            yield float(price_raw)"
   ],
   "metadata": {
    "collapsed": false,
    "pycharm": {
     "name": "#%%\n"
    }
   }
  },
  {
   "cell_type": "markdown",
   "source": [
    "주목할 점은 코드는 거의 동일하다는 점이다.\n",
    "\n",
    "class에서 \\_\\_iter__(), \\_\\_next__() 메서드를 구현해야 이터레이터로 사용가능하다."
   ],
   "metadata": {
    "collapsed": false,
    "pycharm": {
     "name": "#%% md\n"
    }
   }
  },
  {
   "cell_type": "code",
   "execution_count": 2,
   "outputs": [],
   "source": [
    "class SequenceOfNumbers:\n",
    "    def __init__(self, start=0):\n",
    "        self.current = start\n",
    "\n",
    "    def __next__(self):\n",
    "        current = self.current\n",
    "        self.current += 1\n",
    "        return current\n",
    "\n",
    "    def __iter__(self):\n",
    "        return self"
   ],
   "metadata": {
    "collapsed": false,
    "pycharm": {
     "name": "#%%\n"
    }
   }
  },
  {
   "cell_type": "code",
   "execution_count": 3,
   "outputs": [
    {
     "data": {
      "text/plain": "[(0, 'a'), (1, 'b'), (2, 'c'), (3, 'd'), (4, 'e'), (5, 'f'), (6, 'g')]"
     },
     "execution_count": 3,
     "metadata": {},
     "output_type": "execute_result"
    }
   ],
   "source": [
    "list(zip(SequenceOfNumbers(), 'abcdefg'))"
   ],
   "metadata": {
    "collapsed": false,
    "pycharm": {
     "name": "#%%\n"
    }
   }
  },
  {
   "cell_type": "markdown",
   "source": [
    "### Itertools\n",
    "---------------------\n",
    "```python\n",
    "    from itertools import islice\n",
    "    purchases = islice(filter(lambda p: p > 1000.0, purchases), 10)\n",
    "    stats = PurchaseStatus(purchases).process()\n",
    "```\n",
    "위와 같이 표현할 수 있다.<br>\n",
    "\n",
    "### 중첩 루프\n",
    "-----------------------\n",
    "```python\n",
    "    def search_nested_bad(array, desired_value:\n",
    "        coords = None\n",
    "        for i, cell in enumerate(array):\n",
    "            for j, cell in enumerate(array):\n",
    "                if cell == desired_value:\n",
    "                    coords = (i, j)\n",
    "                    break\n",
    "            if coords is not None:\n",
    "                break\n",
    "        if coords is None:\n",
    "            raise ValueError(f'{desired_value} not found')\n",
    "        logger.info('[%i, %i]에서 값 %r 찾음', *coords, desired_value)\n",
    "        return coords\n",
    "```\n",
    "위와 같이 지저분한 코드를 작성해야 이중 루프에서 탈출 할 수 있다.\n",
    "그러나 제네레이터를 쓰면 보다 깔끔한 코드를 작성할 수 있다.\n",
    "\n",
    "```python\n",
    "    def _iterate_array2d(array2d):\n",
    "        for i, row in enumerate(array2d):\n",
    "            for j, cell in enumerate(row):\n",
    "                yield (i, j), cell\n",
    "\n",
    "    def search_nested(array, desired_value):\n",
    "        try:\n",
    "            coords = next(\n",
    "                coords\n",
    "                for (coords, cell) in _iterate_array2d()\n",
    "                if cell == desired_value\n",
    "            )\n",
    "        except StopIteration:\n",
    "            raise ValueError(f'{desired_value} not found')\n",
    "\n",
    "        logger.info('[%i, %i]에서 값 %r 찾음', *coords, desired_value)\n",
    "        return coords\n",
    "```\n",
    "훌륭하다..\n",
    "\n",
    "### 파이썬의 이터레이터 패턴\n",
    "----------------------------\n",
    "iteratorsms \\_\\_iter__, \\_\\_next__ 매직 메서드를 구현한 object이다.<br>\n",
    "\n",
    "| concept | magic method | 내용 |\n",
    "|----------|-------------|------------|\n",
    "| Iterable | \\_\\_iter__ | 이터레이터와 함께 반복 로직을 만든다. 이것을 구현한 객체는 for in 구문에서 사용가능 |\n",
    "| Iterator | \\_\\_next__ | 한 번에 하나씩 값을 생산하는 로직을 정의한다. 더 이상 생산할 값이 없을 경우 StopIteration을 raise |"
   ],
   "metadata": {
    "collapsed": false,
    "pycharm": {
     "name": "#%% md\n"
    }
   }
  },
  {
   "cell_type": "code",
   "execution_count": 7,
   "outputs": [],
   "source": [
    "class SequenceIterator:\n",
    "    def __init__(self, start=0, step=1):\n",
    "        self.current = start\n",
    "        self.step = step\n",
    "\n",
    "    def __next__(self):\n",
    "        value = self.current\n",
    "        self.current += self.step\n",
    "        return value"
   ],
   "metadata": {
    "collapsed": false,
    "pycharm": {
     "name": "#%%\n"
    }
   }
  },
  {
   "cell_type": "code",
   "execution_count": 9,
   "outputs": [
    {
     "name": "stdout",
     "output_type": "stream",
     "text": [
      "1\n",
      "3\n",
      "5\n",
      "7\n"
     ]
    },
    {
     "ename": "TypeError",
     "evalue": "'SequenceIterator' object is not iterable",
     "output_type": "error",
     "traceback": [
      "\u001B[0;31m---------------------------------------------------------------------------\u001B[0m",
      "\u001B[0;31mTypeError\u001B[0m                                 Traceback (most recent call last)",
      "\u001B[0;32m<ipython-input-9-1855db078242>\u001B[0m in \u001B[0;36m<module>\u001B[0;34m\u001B[0m\n\u001B[1;32m      5\u001B[0m \u001B[0mprint\u001B[0m\u001B[0;34m(\u001B[0m\u001B[0mnext\u001B[0m\u001B[0;34m(\u001B[0m\u001B[0msi\u001B[0m\u001B[0;34m)\u001B[0m\u001B[0;34m)\u001B[0m\u001B[0;34m\u001B[0m\u001B[0;34m\u001B[0m\u001B[0m\n\u001B[1;32m      6\u001B[0m \u001B[0;34m\u001B[0m\u001B[0m\n\u001B[0;32m----> 7\u001B[0;31m \u001B[0;32mfor\u001B[0m \u001B[0m_\u001B[0m \u001B[0;32min\u001B[0m \u001B[0msi\u001B[0m\u001B[0;34m:\u001B[0m \u001B[0;32mpass\u001B[0m\u001B[0;34m\u001B[0m\u001B[0;34m\u001B[0m\u001B[0m\n\u001B[0m",
      "\u001B[0;31mTypeError\u001B[0m: 'SequenceIterator' object is not iterable"
     ]
    }
   ],
   "source": [
    "si = SequenceIterator(1, 2)\n",
    "print(next(si))\n",
    "print(next(si))\n",
    "print(next(si))\n",
    "print(next(si))\n",
    "\n",
    "for _ in si: pass"
   ],
   "metadata": {
    "collapsed": false,
    "pycharm": {
     "name": "#%%\n"
    }
   }
  },
  {
   "cell_type": "markdown",
   "source": [
    "위 예제는 iterator는 정의하였지만 iteralbe하지 않으므로 \\_\\_next__는 호출가능하지만<br>\n",
    "for in 구문은 사용할 수 없다.<br>\n",
    "\n",
    "\\_\\_iter__가 없더라도 for in 구문을 사용할 수 있는데\n",
    "\\_\\_len__ 과 \\_\\_getitem__ method가 정의되어있다면 사용가능하다."
   ],
   "metadata": {
    "collapsed": false,
    "pycharm": {
     "name": "#%% md\n"
    }
   }
  },
  {
   "cell_type": "code",
   "execution_count": 10,
   "outputs": [],
   "source": [
    "import logging\n",
    "logger = logging.getLogger('logger')\n",
    "\n",
    "class MappedRange:\n",
    "    \"\"\"특정 숫자 범위에 대해 맵으로 변환\"\"\"\n",
    "    def __init__(self, transformation, start, end):\n",
    "        self._transformation = transformation\n",
    "        self._wrapped = range(start, end)\n",
    "\n",
    "    def __getitem__(self, index):\n",
    "        value = self._wrapped.__getitem__(index)\n",
    "        result = self._transformation(value)\n",
    "        logger.info(f'Index {index}: {result}')\n",
    "        return result\n",
    "\n",
    "    def __len__(self):\n",
    "        return len(self._wrapped)"
   ],
   "metadata": {
    "collapsed": false,
    "pycharm": {
     "name": "#%%\n"
    }
   }
  },
  {
   "cell_type": "code",
   "execution_count": 11,
   "outputs": [
    {
     "data": {
      "text/plain": "10"
     },
     "execution_count": 11,
     "metadata": {},
     "output_type": "execute_result"
    }
   ],
   "source": [
    "mr = MappedRange(abs, -10, 5)\n",
    "mr[0]"
   ],
   "metadata": {
    "collapsed": false,
    "pycharm": {
     "name": "#%%\n"
    }
   }
  },
  {
   "cell_type": "code",
   "execution_count": 12,
   "outputs": [
    {
     "data": {
      "text/plain": "4"
     },
     "execution_count": 12,
     "metadata": {},
     "output_type": "execute_result"
    }
   ],
   "source": [
    "mr[-1]"
   ],
   "metadata": {
    "collapsed": false,
    "pycharm": {
     "name": "#%%\n"
    }
   }
  },
  {
   "cell_type": "code",
   "execution_count": 13,
   "outputs": [
    {
     "data": {
      "text/plain": "[10, 9, 8, 7, 6, 5, 4, 3, 2, 1, 0, 1, 2, 3, 4]"
     },
     "execution_count": 13,
     "metadata": {},
     "output_type": "execute_result"
    }
   ],
   "source": [
    "list(mr)"
   ],
   "metadata": {
    "collapsed": false,
    "pycharm": {
     "name": "#%%\n"
    }
   }
  },
  {
   "cell_type": "markdown",
   "source": [
    "이러한 구현은 대비책임을 항상 기억해야한다.<br>\n",
    "이 방법보다는 \\_\\_iter__ 를 구현하는게 더 바람직하다."
   ],
   "metadata": {
    "collapsed": false,
    "pycharm": {
     "name": "#%% md\n"
    }
   }
  },
  {
   "cell_type": "markdown",
   "source": [
    "hello"
   ],
   "metadata": {
    "collapsed": false,
    "pycharm": {
     "name": "#%% md\n"
    }
   }
  },
  {
   "cell_type": "code",
   "execution_count": 3,
   "outputs": [],
   "source": [
    "def sequence(name, start, end):\n",
    "    print(f'{name} 제네레이터에서 {start}에서 시작')\n",
    "    yield from range(start, end)\n",
    "    print(f'{name} 제네레이터에서 {end}에서 종료')\n",
    "    return end\n",
    "\n",
    "def main():\n",
    "    step1 = yield from sequence('first', 0, 5)\n",
    "    step2 = yield from sequence('seco nd', step1, 10)\n",
    "    return step1 + step2"
   ],
   "metadata": {
    "collapsed": false,
    "pycharm": {
     "name": "#%%\n"
    }
   }
  },
  {
   "cell_type": "code",
   "execution_count": 2,
   "outputs": [
    {
     "ename": "NameError",
     "evalue": "name 'main' is not defined",
     "output_type": "error",
     "traceback": [
      "\u001B[0;31m---------------------------------------------------------------------------\u001B[0m",
      "\u001B[0;31mNameError\u001B[0m                                 Traceback (most recent call last)",
      "\u001B[0;32m<ipython-input-2-34acbccb7e5c>\u001B[0m in \u001B[0;36m<module>\u001B[0;34m\u001B[0m\n\u001B[0;32m----> 1\u001B[0;31m \u001B[0mg\u001B[0m \u001B[0;34m=\u001B[0m \u001B[0mmain\u001B[0m\u001B[0;34m(\u001B[0m\u001B[0;34m)\u001B[0m\u001B[0;34m\u001B[0m\u001B[0;34m\u001B[0m\u001B[0m\n\u001B[0m\u001B[1;32m      2\u001B[0m \u001B[0mprint\u001B[0m\u001B[0;34m(\u001B[0m\u001B[0mnext\u001B[0m\u001B[0;34m(\u001B[0m\u001B[0mg\u001B[0m\u001B[0;34m)\u001B[0m\u001B[0;34m)\u001B[0m\u001B[0;34m\u001B[0m\u001B[0;34m\u001B[0m\u001B[0m\n",
      "\u001B[0;31mNameError\u001B[0m: name 'main' is not defined"
     ]
    }
   ],
   "source": [
    "class "
   ],
   "metadata": {
    "collapsed": false,
    "pycharm": {
     "name": "#%%\n"
    }
   }
  },
  {
   "cell_type": "code",
   "execution_count": 1,
   "outputs": [
    {
     "data": {
      "text/plain": "2"
     },
     "execution_count": 1,
     "metadata": {},
     "output_type": "execute_result"
    }
   ],
   "source": [
    "\n"
   ],
   "metadata": {
    "collapsed": false,
    "pycharm": {
     "name": "#%%\n"
    }
   }
  }
 ],
 "metadata": {
  "kernelspec": {
   "name": "pycharm-48fa06dc",
   "language": "python",
   "display_name": "PyCharm (Python_Clean_Code)"
  },
  "language_info": {
   "codemirror_mode": {
    "name": "ipython",
    "version": 2
   },
   "file_extension": ".py",
   "mimetype": "text/x-python",
   "name": "python",
   "nbconvert_exporter": "python",
   "pygments_lexer": "ipython2",
   "version": "2.7.6"
  }
 },
 "nbformat": 4,
 "nbformat_minor": 0
}