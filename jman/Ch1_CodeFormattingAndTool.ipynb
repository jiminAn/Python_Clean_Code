{
 "cells": [
  {
   "cell_type": "markdown",
   "metadata": {},
   "source": [
    "# Chapter 1. 소개 및 코드 포매팅과 도구\n",
    "\n",
    "\n",
    "## 1) 클린 코드의 의미 \n",
    "- **프로그래밍 언어란** 인간의 아이디어를 컴퓨터에 전달하는 언어가 아니라 **아이디어를 다른 개발자에게 전달하는 것**\n",
    "- 클린코드의 기준은 다른 엔지니어가 코드를 읽고 유지 관리할 수 있는지 여부\n",
    "\n",
    "\n",
    "## 2) 클린 코드의 중요성\n",
    "- **기술부채**는 현 시점에서 더 오래 소요될 수 있는 더 나은 접근 방식을 사용하는 대신 **쉬운 솔루션을 채택함으로써 발생되는 추가적인 재작업의 비용을 반영하는 소프트웨어 개발의 한 관점**\n",
    "- 즉, 나쁜 결정이나 적당한 타협의 결과로 생긴 소프트웨어적 결함을 의미\n",
    "\n",
    "\n",
    "#### 2-1) 클린 코드에서 코드 포매팅의 역할\n",
    "- 클린 코드는 코드 포매팅 그 이상의 것을 의미하며 유지보수성이나 소프트웨어 품질에 관한 것을 말함\n",
    "\n",
    "\n",
    "\n",
    "#### 2-2) 프로젝트 코딩 스타일 가이드 준수\n",
    "- 좋은 코드 레이아웃에서 가장 필요한 특성은 **일관성**\n",
    "- 파이썬은 코딩 스타일로 [PEP-8](https://b.luavis.kr/python/python-convention) 을 사용\n",
    "    + 검색의 효율성 : grep -nr \"local=\" 과 grep -nr \"local =\" 의 스페이스 차이\n",
    "    + 일관성 : 코드의 가독성이 향상됨\n",
    "    + 코드 품질 : 잠재적인 버그를 찾을 수 있음\n",
    "\n",
    "\n",
    "## 3) Docstring과 어노테이션\n",
    "- 주석은 되도록 지양, 문서화(Docstring)로 대체\n",
    "- 어노테이션은 파이썬의 동적 타입으로 인한 모호성을 개선하고, Mypy 같은 도구의 자동화 검증 수단으로도 활용 가능\n",
    "\n",
    "#### 3-1) Docstring\n",
    "- 소스 코드에 포함된 문서이며 코멘트가 아님\n",
    "- 가능한 많은 docstring을 추가하는 것을 권장함\n",
    "- 예상되는 함수의 입력과 출력을 문서화하면 사용할 때 이해하기 쉬움\n",
    "- [Sphinx(스핑크스)](https://kshyun87.tistory.com/63)를 실행하면 프로젝트 문서화의 기본골격을 자동 생성하고 Docstring을 가져와 문서화된 페이지를 만들어 줌\n",
    "    \n"
   ]
  },
  {
   "cell_type": "code",
   "execution_count": 7,
   "metadata": {},
   "outputs": [
    {
     "data": {
      "text/plain": [
       "'D.update([E, ]**F) -> None.  Update D from dict/iterable E and F.\\nIf E is present and has a .keys() method, then does:  for k in E: D[k] = E[k]\\nIf E is present and lacks a .keys() method, then does:  for k, v in E: D[k] = v\\nIn either case, this is followed by: for k in F:  D[k] = F[k]'"
      ]
     },
     "execution_count": 7,
     "metadata": {},
     "output_type": "execute_result"
    }
   ],
   "source": [
    "\"\"\" dict.update의 dostring 내용 \"\"\"\n",
    "dict.update.__doc__ # __doc__로 Dostring 접근"
   ]
  },
  {
   "cell_type": "code",
   "execution_count": 12,
   "metadata": {},
   "outputs": [
    {
     "name": "stdout",
     "output_type": "stream",
     "text": [
      "{1: 'one', 2: 'two'}\n",
      "{1: 'one', 2: 'two', 3: 'three', 4: 'four'}\n"
     ]
    }
   ],
   "source": [
    "\"\"\" dict.update의 docstring 활용 \"\"\"\n",
    "\n",
    "# dictionary를 통한 업데이트\n",
    "d = {}\n",
    "d.update({1:\"one\", 2:\"two\"})\n",
    "print(d)\n",
    "\n",
    "# 이터러블을 통한 업데이트\n",
    "d.update([(3, \"three\"), (4, \"four\")])\n",
    "print(d)"
   ]
  },
  {
   "cell_type": "code",
   "execution_count": 14,
   "metadata": {},
   "outputs": [
    {
     "data": {
      "text/plain": [
       "'임의의 계산 수행을 하는 함수'"
      ]
     },
     "execution_count": 14,
     "metadata": {},
     "output_type": "execute_result"
    }
   ],
   "source": [
    "\"\"\" docstring 작성 \"\"\"\n",
    "\n",
    "def my_function():\n",
    "    \"\"\"임의의 계산 수행을 하는 함수\"\"\"\n",
    "    return None\n",
    "\n",
    "my_function.__doc__"
   ]
  },
  {
   "cell_type": "markdown",
   "metadata": {},
   "source": [
    "#### 3-2) 어노테이션\n",
    "- 코드 사용자에게 함수 인자로 어떤 값이 와야 하는지 힌트 제공\n",
    "- 파이썬이 타입을 검사하거나 강제하지는 않음\n",
    "- \\_\\_annotations\\_\\_ 이라는 특수 속성이 생김"
   ]
  },
  {
   "cell_type": "code",
   "execution_count": 15,
   "metadata": {},
   "outputs": [
    {
     "data": {
      "text/plain": [
       "{'lattitude': float, 'longitude': float, 'return': __main__.Point}"
      ]
     },
     "execution_count": 15,
     "metadata": {},
     "output_type": "execute_result"
    }
   ],
   "source": [
    "\"\"\" 사용법 \"\"\"\n",
    "\n",
    "class Point:\n",
    "    def __init__(self, lat, long):\n",
    "        self.lat = lat\n",
    "        self.long = long\n",
    "\n",
    "def locate(lattitude: float, longitude: float) -> Point:\n",
    "    pass\n",
    "\n",
    "locate.__annotations__"
   ]
  },
  {
   "cell_type": "code",
   "execution_count": 16,
   "metadata": {},
   "outputs": [
    {
     "data": {
      "text/plain": [
       "{'lat': float, 'long': float}"
      ]
     },
     "execution_count": 16,
     "metadata": {},
     "output_type": "execute_result"
    }
   ],
   "source": [
    "\"\"\" 변수에 적용 \"\"\"\n",
    "\n",
    "class Point:\n",
    "    lat: float\n",
    "    long: float\n",
    "\n",
    "Point.__annotations__"
   ]
  },
  {
   "cell_type": "markdown",
   "metadata": {},
   "source": [
    "#### 3-3) 어노테이션은 docstring을 대체하는 것일까?\n",
    "- 일부 대체 가능하지만 보다 나은 문서화를 위한 여지를 남겨두어야 함\n",
    "- 파라미터가 기댓값과 다를 경우 예외 등을 기술 할 수 있음(page 29 참고)\n",
    "\n",
    "#### 3-4) 기본 품질 향상을 위한 도구 설정\n",
    "- mypy : 프로젝트의 모든 파일을 분석하여 타입 불일치를 검사\n",
    "- Pylint : PEP-8을 준수했는지 여부를 검사\n",
    "- black : PEP-8을 준수했는지 여부를 검사하고 자동으로 바꿈\n",
    "- makefile\n",
    "\n",
    "\n"
   ]
  }
 ],
 "metadata": {
  "file_extension": ".py",
  "kernelspec": {
   "display_name": "Python 3",
   "language": "python",
   "name": "python3"
  },
  "language_info": {
   "codemirror_mode": {
    "name": "ipython",
    "version": 3
   },
   "file_extension": ".py",
   "mimetype": "text/x-python",
   "name": "python",
   "nbconvert_exporter": "python",
   "pygments_lexer": "ipython3",
   "version": "3.8.5"
  },
  "mimetype": "text/x-python",
  "name": "python",
  "npconvert_exporter": "python",
  "pygments_lexer": "ipython3",
  "version": 3
 },
 "nbformat": 4,
 "nbformat_minor": 4
}
